{
 "cells": [
  {
   "cell_type": "code",
   "execution_count": 1,
   "id": "2d779194",
   "metadata": {},
   "outputs": [],
   "source": [
    "#importing required libraries \n",
    "import numpy as np\n",
    "import pandas as pd\n",
    "import matplotlib.pyplot as plt\n",
    "import seaborn as sns\n",
    "import re\n",
    "from random import randint #to get random values\n",
    "from time import sleep #to sleep the algorithm while scraping websites\n",
    "import requests #requests module to requests information from websites\n",
    "from bs4 import BeautifulSoup\n",
    "import pandas as pd #for dataframe \n",
    "import numpy as np #for numerical analysis\n"
   ]
  },
  {
   "cell_type": "code",
   "execution_count": null,
   "id": "16a926d3",
   "metadata": {},
   "outputs": [],
   "source": [
    "\n",
    "name = []\n",
    "apartment_price = []\n",
    "completion_stage = []\n",
    "agent_contact = []\n",
    "day_posted = []\n",
    "rent_location = []\n",
    "\n",
    "\n",
    "URL = 'https://www.propertypro.ng/property-for-rent/in/abuja?page='\n",
    "for page in range(1,550):\n",
    "    req = requests.get(URL + str(page))\n",
    "    #html_ = requests.get('https://www.propertypro.ng/property-for-rent/in/abuja').text\n",
    "    #create an instance of beautifulsoup\n",
    "    soup = BeautifulSoup(req.text, 'lxml')\n",
    "    apartments = soup.find_all('div', class_ ='single-room-sale listings-property')\n",
    "    #get and find infomation about unique properties\n",
    "    #locat = soup.find_all('div', class_ = 'single-room-img result-img')\n",
    "\n",
    "    for apartment in apartments:\n",
    "        try:\n",
    "            title  = apartment.find('h4', class_= 'listings-property-title').text\n",
    "        except:\n",
    "            title = None\n",
    "        try:\n",
    "            price = apartment.find('h3', class_ = 'listings-price').text\n",
    "        except:\n",
    "            price = None\n",
    "        try:\n",
    "            furnishing = apartment.find('div', class_ = 'furnished-btn').text.replace('\\n','')\n",
    "        except:\n",
    "            furnishing = None\n",
    "        try:\n",
    "            agent_no = apartment.find('div', class_ = 'phone-icon').text.replace('\\n','')\n",
    "        except:\n",
    "            agent_no = None\n",
    "        try:\n",
    "            date_posted = apartment.find('div', class_ = 'single-room-text').h5.text\n",
    "        except:\n",
    "            date_posted = None\n",
    "        try:\n",
    "            location = apartment.find('div', class_ = 'single-room-img result-img').img['title']\n",
    "        except:\n",
    "            location = None\n",
    "        name.append(title)\n",
    "        apartment_price.append(price)\n",
    "        completion_stage.append(furnishing)\n",
    "        agent_contact.append(agent_no)\n",
    "        day_posted.append(date_posted)\n",
    "        rent_location.append(location)\n",
    "    sleep(randint(4,10))"
   ]
  },
  {
   "cell_type": "code",
   "execution_count": null,
   "id": "445f42a6",
   "metadata": {},
   "outputs": [],
   "source": [
    "df = pd.DataFrame()\n",
    "df['name'] = name\n",
    "df['apartment_price'] = apartment_price\n",
    "df['completion_stage'] = completion_stage\n",
    "df['agent_contact'] = agent_contact\n",
    "df['day_posted'] = day_posted\n",
    "df['rent_location'] =  rent_location\n",
    "df"
   ]
  },
  {
   "cell_type": "code",
   "execution_count": null,
   "id": "54059735",
   "metadata": {},
   "outputs": [],
   "source": [
    "df.to_csv('Real_estate.csv')"
   ]
  },
  {
   "cell_type": "code",
   "execution_count": 2,
   "id": "e80b09ac",
   "metadata": {},
   "outputs": [],
   "source": [
    "#the dataset was scrapped from propertyng website and was saved into a csv file\n",
    "#loading the dataset from a csv file\n",
    "real_estate_df = pd.read_csv('Real_estate.csv', index_col= [0])"
   ]
  },
  {
   "cell_type": "code",
   "execution_count": 3,
   "id": "c0483310",
   "metadata": {},
   "outputs": [
    {
     "data": {
      "text/html": [
       "<div>\n",
       "<style scoped>\n",
       "    .dataframe tbody tr th:only-of-type {\n",
       "        vertical-align: middle;\n",
       "    }\n",
       "\n",
       "    .dataframe tbody tr th {\n",
       "        vertical-align: top;\n",
       "    }\n",
       "\n",
       "    .dataframe thead th {\n",
       "        text-align: right;\n",
       "    }\n",
       "</style>\n",
       "<table border=\"1\" class=\"dataframe\">\n",
       "  <thead>\n",
       "    <tr style=\"text-align: right;\">\n",
       "      <th></th>\n",
       "      <th>name</th>\n",
       "      <th>apartment_price</th>\n",
       "      <th>completion_stage</th>\n",
       "      <th>agent_contact</th>\n",
       "      <th>day_posted</th>\n",
       "      <th>rent_location</th>\n",
       "    </tr>\n",
       "  </thead>\n",
       "  <tbody>\n",
       "    <tr>\n",
       "      <th>0</th>\n",
       "      <td>3 BEDROOM FLAT / APARTMENT FOR RENT</td>\n",
       "      <td>₦ 3,800,000/year</td>\n",
       "      <td>NaN</td>\n",
       "      <td>8.160442e+09</td>\n",
       "      <td>Updated 25 Jul 2022, Added 27 Jun 2022</td>\n",
       "      <td>3 bedroom Flat / Apartment for rent Durumi Abuja</td>\n",
       "    </tr>\n",
       "    <tr>\n",
       "      <th>1</th>\n",
       "      <td>4 BEDROOM HOUSE FOR RENT</td>\n",
       "      <td>₦ 7,000,000/year</td>\n",
       "      <td>ServicedNewly Built</td>\n",
       "      <td>8.036492e+09</td>\n",
       "      <td>Updated 25 Jul 2022, Added 27 Jun 2022</td>\n",
       "      <td>4 bedroom House for rent Katampe Extention Dip...</td>\n",
       "    </tr>\n",
       "    <tr>\n",
       "      <th>2</th>\n",
       "      <td>2 BEDROOM FLAT / APARTMENT FOR RENT</td>\n",
       "      <td>₦ 2,200,000/year</td>\n",
       "      <td>NaN</td>\n",
       "      <td>8.160442e+09</td>\n",
       "      <td>Updated 25 Jul 2022, Added 11 Jun 2022</td>\n",
       "      <td>2 bedroom Flat / Apartment for rent Gaduwa Est...</td>\n",
       "    </tr>\n",
       "    <tr>\n",
       "      <th>3</th>\n",
       "      <td>6 BEDROOM COMMERCIAL PROPERTY FOR RENT</td>\n",
       "      <td>₦ 20,000,000/year</td>\n",
       "      <td>NaN</td>\n",
       "      <td>8.160442e+09</td>\n",
       "      <td>Updated 25 Jul 2022, Added 06 Jul 2022</td>\n",
       "      <td>6 bedroom Commercial Property for rent By Ecow...</td>\n",
       "    </tr>\n",
       "    <tr>\n",
       "      <th>4</th>\n",
       "      <td>10 BEDROOM COMMERCIAL PROPERTY FOR RENT</td>\n",
       "      <td>₦ 40,000,000/year</td>\n",
       "      <td>FurnishedServicedNewly Built</td>\n",
       "      <td>8.160442e+09</td>\n",
       "      <td>Updated 25 Jul 2022, Added 10 Jul 2022</td>\n",
       "      <td>10 bedroom Commercial Property for rent Katamp...</td>\n",
       "    </tr>\n",
       "    <tr>\n",
       "      <th>...</th>\n",
       "      <td>...</td>\n",
       "      <td>...</td>\n",
       "      <td>...</td>\n",
       "      <td>...</td>\n",
       "      <td>...</td>\n",
       "      <td>...</td>\n",
       "    </tr>\n",
       "    <tr>\n",
       "      <th>10935</th>\n",
       "      <td>HOUSE FOR RENT</td>\n",
       "      <td>₦ 3,100,000</td>\n",
       "      <td>NaN</td>\n",
       "      <td>NaN</td>\n",
       "      <td>Added 12 Apr 2017</td>\n",
       "      <td>House for rent Area 11 Abuja</td>\n",
       "    </tr>\n",
       "    <tr>\n",
       "      <th>10936</th>\n",
       "      <td>HOUSE FOR RENT</td>\n",
       "      <td>₦ 7,000,000</td>\n",
       "      <td>NaN</td>\n",
       "      <td>NaN</td>\n",
       "      <td>Added 12 Apr 2017</td>\n",
       "      <td>House for rent Asokoro , Abuja Asokoro Abuja</td>\n",
       "    </tr>\n",
       "    <tr>\n",
       "      <th>10937</th>\n",
       "      <td>HOUSE FOR RENT</td>\n",
       "      <td>₦ 3,000,000</td>\n",
       "      <td>NaN</td>\n",
       "      <td>NaN</td>\n",
       "      <td>Added 12 Apr 2017</td>\n",
       "      <td>House for rent Asokoro , Abuja Asokoro Abuja</td>\n",
       "    </tr>\n",
       "    <tr>\n",
       "      <th>10938</th>\n",
       "      <td>HOUSE FOR RENT</td>\n",
       "      <td>₦ 3,500,000</td>\n",
       "      <td>NaN</td>\n",
       "      <td>NaN</td>\n",
       "      <td>Added 12 Apr 2017</td>\n",
       "      <td>House for rent House 12, Off 69 Road Gwarinpa ...</td>\n",
       "    </tr>\n",
       "    <tr>\n",
       "      <th>10939</th>\n",
       "      <td>3 BEDROOM FLAT / APARTMENT FOR RENT</td>\n",
       "      <td>₦ 2,000,000</td>\n",
       "      <td>NaN</td>\n",
       "      <td>NaN</td>\n",
       "      <td>Added 12 Apr 2017</td>\n",
       "      <td>3 bedroom Flat / Apartment for rent Wuye Wuye ...</td>\n",
       "    </tr>\n",
       "  </tbody>\n",
       "</table>\n",
       "<p>10940 rows × 6 columns</p>\n",
       "</div>"
      ],
      "text/plain": [
       "                                          name      apartment_price  \\\n",
       "0          3 BEDROOM FLAT / APARTMENT FOR RENT    ₦ 3,800,000/year    \n",
       "1                     4 BEDROOM HOUSE FOR RENT    ₦ 7,000,000/year    \n",
       "2          2 BEDROOM FLAT / APARTMENT FOR RENT    ₦ 2,200,000/year    \n",
       "3       6 BEDROOM COMMERCIAL PROPERTY FOR RENT   ₦ 20,000,000/year    \n",
       "4      10 BEDROOM COMMERCIAL PROPERTY FOR RENT   ₦ 40,000,000/year    \n",
       "...                                        ...                  ...   \n",
       "10935                           HOUSE FOR RENT         ₦ 3,100,000    \n",
       "10936                           HOUSE FOR RENT         ₦ 7,000,000    \n",
       "10937                           HOUSE FOR RENT         ₦ 3,000,000    \n",
       "10938                           HOUSE FOR RENT         ₦ 3,500,000    \n",
       "10939      3 BEDROOM FLAT / APARTMENT FOR RENT         ₦ 2,000,000    \n",
       "\n",
       "                   completion_stage  agent_contact  \\\n",
       "0                               NaN   8.160442e+09   \n",
       "1               ServicedNewly Built   8.036492e+09   \n",
       "2                               NaN   8.160442e+09   \n",
       "3                               NaN   8.160442e+09   \n",
       "4      FurnishedServicedNewly Built   8.160442e+09   \n",
       "...                             ...            ...   \n",
       "10935                           NaN            NaN   \n",
       "10936                           NaN            NaN   \n",
       "10937                           NaN            NaN   \n",
       "10938                           NaN            NaN   \n",
       "10939                           NaN            NaN   \n",
       "\n",
       "                                      day_posted  \\\n",
       "0        Updated 25 Jul 2022, Added 27 Jun 2022    \n",
       "1        Updated 25 Jul 2022, Added 27 Jun 2022    \n",
       "2        Updated 25 Jul 2022, Added 11 Jun 2022    \n",
       "3        Updated 25 Jul 2022, Added 06 Jul 2022    \n",
       "4        Updated 25 Jul 2022, Added 10 Jul 2022    \n",
       "...                                          ...   \n",
       "10935                         Added 12 Apr 2017    \n",
       "10936                         Added 12 Apr 2017    \n",
       "10937                         Added 12 Apr 2017    \n",
       "10938                         Added 12 Apr 2017    \n",
       "10939                         Added 12 Apr 2017    \n",
       "\n",
       "                                           rent_location  \n",
       "0       3 bedroom Flat / Apartment for rent Durumi Abuja  \n",
       "1      4 bedroom House for rent Katampe Extention Dip...  \n",
       "2      2 bedroom Flat / Apartment for rent Gaduwa Est...  \n",
       "3      6 bedroom Commercial Property for rent By Ecow...  \n",
       "4      10 bedroom Commercial Property for rent Katamp...  \n",
       "...                                                  ...  \n",
       "10935                       House for rent Area 11 Abuja  \n",
       "10936       House for rent Asokoro , Abuja Asokoro Abuja  \n",
       "10937       House for rent Asokoro , Abuja Asokoro Abuja  \n",
       "10938  House for rent House 12, Off 69 Road Gwarinpa ...  \n",
       "10939  3 bedroom Flat / Apartment for rent Wuye Wuye ...  \n",
       "\n",
       "[10940 rows x 6 columns]"
      ]
     },
     "execution_count": 3,
     "metadata": {},
     "output_type": "execute_result"
    }
   ],
   "source": [
    "#checking the dataset\n",
    "real_estate_df"
   ]
  },
  {
   "cell_type": "code",
   "execution_count": 4,
   "id": "d3be33d4",
   "metadata": {},
   "outputs": [
    {
     "data": {
      "text/plain": [
       "(10940, 6)"
      ]
     },
     "execution_count": 4,
     "metadata": {},
     "output_type": "execute_result"
    }
   ],
   "source": [
    "real_estate_df.shape"
   ]
  },
  {
   "cell_type": "code",
   "execution_count": 20,
   "id": "6fd57fe3",
   "metadata": {},
   "outputs": [],
   "source": [
    "#get places with the most expensive apartments, categorised by no of beds\n",
    "#Areas with more property listings\n",
    "#Imagine yourself as a property person\n",
    "#what are the insights you are looking for\n",
    "#where is the best place to get a self contained in abuja (price - )\n",
    "#What about a three bd, four bd etc\n"
   ]
  },
  {
   "cell_type": "code",
   "execution_count": 5,
   "id": "6c5854c0",
   "metadata": {},
   "outputs": [
    {
     "data": {
      "text/plain": [
       "Index(['name', 'apartment_price', 'completion_stage', 'agent_contact',\n",
       "       'day_posted', 'rent_location'],\n",
       "      dtype='object')"
      ]
     },
     "execution_count": 5,
     "metadata": {},
     "output_type": "execute_result"
    }
   ],
   "source": [
    "#setting the index\n",
    "real_estate_df.columns"
   ]
  },
  {
   "cell_type": "raw",
   "id": "24c254d3",
   "metadata": {},
   "source": []
  },
  {
   "cell_type": "code",
   "execution_count": 6,
   "id": "0a2c041c",
   "metadata": {},
   "outputs": [],
   "source": [
    "#rename columns\n",
    "real_estate_df.rename(columns = {'name': 'type', 'apartment_price':'price', 'rent_location': 'apartment_location'}, inplace=True)\n"
   ]
  },
  {
   "cell_type": "code",
   "execution_count": 7,
   "id": "ae262613",
   "metadata": {},
   "outputs": [
    {
     "data": {
      "text/html": [
       "<div>\n",
       "<style scoped>\n",
       "    .dataframe tbody tr th:only-of-type {\n",
       "        vertical-align: middle;\n",
       "    }\n",
       "\n",
       "    .dataframe tbody tr th {\n",
       "        vertical-align: top;\n",
       "    }\n",
       "\n",
       "    .dataframe thead th {\n",
       "        text-align: right;\n",
       "    }\n",
       "</style>\n",
       "<table border=\"1\" class=\"dataframe\">\n",
       "  <thead>\n",
       "    <tr style=\"text-align: right;\">\n",
       "      <th></th>\n",
       "      <th>type</th>\n",
       "      <th>price</th>\n",
       "      <th>completion_stage</th>\n",
       "      <th>agent_contact</th>\n",
       "      <th>day_posted</th>\n",
       "      <th>apartment_location</th>\n",
       "    </tr>\n",
       "  </thead>\n",
       "  <tbody>\n",
       "    <tr>\n",
       "      <th>0</th>\n",
       "      <td>3 BEDROOM FLAT / APARTMENT FOR RENT</td>\n",
       "      <td>₦ 3,800,000/year</td>\n",
       "      <td>NaN</td>\n",
       "      <td>8.160442e+09</td>\n",
       "      <td>Updated 25 Jul 2022, Added 27 Jun 2022</td>\n",
       "      <td>3 bedroom Flat / Apartment for rent Durumi Abuja</td>\n",
       "    </tr>\n",
       "    <tr>\n",
       "      <th>1</th>\n",
       "      <td>4 BEDROOM HOUSE FOR RENT</td>\n",
       "      <td>₦ 7,000,000/year</td>\n",
       "      <td>ServicedNewly Built</td>\n",
       "      <td>8.036492e+09</td>\n",
       "      <td>Updated 25 Jul 2022, Added 27 Jun 2022</td>\n",
       "      <td>4 bedroom House for rent Katampe Extention Dip...</td>\n",
       "    </tr>\n",
       "    <tr>\n",
       "      <th>2</th>\n",
       "      <td>2 BEDROOM FLAT / APARTMENT FOR RENT</td>\n",
       "      <td>₦ 2,200,000/year</td>\n",
       "      <td>NaN</td>\n",
       "      <td>8.160442e+09</td>\n",
       "      <td>Updated 25 Jul 2022, Added 11 Jun 2022</td>\n",
       "      <td>2 bedroom Flat / Apartment for rent Gaduwa Est...</td>\n",
       "    </tr>\n",
       "    <tr>\n",
       "      <th>3</th>\n",
       "      <td>6 BEDROOM COMMERCIAL PROPERTY FOR RENT</td>\n",
       "      <td>₦ 20,000,000/year</td>\n",
       "      <td>NaN</td>\n",
       "      <td>8.160442e+09</td>\n",
       "      <td>Updated 25 Jul 2022, Added 06 Jul 2022</td>\n",
       "      <td>6 bedroom Commercial Property for rent By Ecow...</td>\n",
       "    </tr>\n",
       "    <tr>\n",
       "      <th>4</th>\n",
       "      <td>10 BEDROOM COMMERCIAL PROPERTY FOR RENT</td>\n",
       "      <td>₦ 40,000,000/year</td>\n",
       "      <td>FurnishedServicedNewly Built</td>\n",
       "      <td>8.160442e+09</td>\n",
       "      <td>Updated 25 Jul 2022, Added 10 Jul 2022</td>\n",
       "      <td>10 bedroom Commercial Property for rent Katamp...</td>\n",
       "    </tr>\n",
       "    <tr>\n",
       "      <th>5</th>\n",
       "      <td>COMMERCIAL PROPERTY FOR RENT</td>\n",
       "      <td>₦ 15,000,000/year</td>\n",
       "      <td>NaN</td>\n",
       "      <td>8.166684e+09</td>\n",
       "      <td>Updated 25 Jul 2022, Added 24 Dec 2021</td>\n",
       "      <td>Commercial Property for rent Wuse 2 Abuja</td>\n",
       "    </tr>\n",
       "    <tr>\n",
       "      <th>6</th>\n",
       "      <td>4 BEDROOM HOUSE FOR RENT</td>\n",
       "      <td>₦ 3,500,000/year</td>\n",
       "      <td>Newly Built</td>\n",
       "      <td>8.160442e+09</td>\n",
       "      <td>Updated 25 Jul 2022, Added 10 Jun 2022</td>\n",
       "      <td>4 bedroom House for rent Northstar Garden Esta...</td>\n",
       "    </tr>\n",
       "    <tr>\n",
       "      <th>7</th>\n",
       "      <td>5 BEDROOM HOUSE FOR RENT</td>\n",
       "      <td>₦ 7,000,000/year</td>\n",
       "      <td>NaN</td>\n",
       "      <td>8.160442e+09</td>\n",
       "      <td>Updated 25 Jul 2022, Added 07 Jun 2022</td>\n",
       "      <td>5 bedroom House for rent Wuye Abuja</td>\n",
       "    </tr>\n",
       "    <tr>\n",
       "      <th>8</th>\n",
       "      <td>5 BEDROOM HOUSE FOR RENT</td>\n",
       "      <td>₦ 20,000,000/year</td>\n",
       "      <td>NaN</td>\n",
       "      <td>8.160442e+09</td>\n",
       "      <td>Updated 25 Jul 2022, Added 24 May 2022</td>\n",
       "      <td>5 bedroom House for rent Asokoro Abuja</td>\n",
       "    </tr>\n",
       "    <tr>\n",
       "      <th>9</th>\n",
       "      <td>2 BEDROOM FLAT / APARTMENT FOR RENT</td>\n",
       "      <td>₦ 4,000,000/year</td>\n",
       "      <td>FurnishedServiced</td>\n",
       "      <td>8.160442e+09</td>\n",
       "      <td>Updated 25 Jul 2022, Added 16 Jun 2022</td>\n",
       "      <td>2 bedroom Flat / Apartment for rent Wuye Abuja</td>\n",
       "    </tr>\n",
       "  </tbody>\n",
       "</table>\n",
       "</div>"
      ],
      "text/plain": [
       "                                      type                price  \\\n",
       "0      3 BEDROOM FLAT / APARTMENT FOR RENT    ₦ 3,800,000/year    \n",
       "1                 4 BEDROOM HOUSE FOR RENT    ₦ 7,000,000/year    \n",
       "2      2 BEDROOM FLAT / APARTMENT FOR RENT    ₦ 2,200,000/year    \n",
       "3   6 BEDROOM COMMERCIAL PROPERTY FOR RENT   ₦ 20,000,000/year    \n",
       "4  10 BEDROOM COMMERCIAL PROPERTY FOR RENT   ₦ 40,000,000/year    \n",
       "5             COMMERCIAL PROPERTY FOR RENT   ₦ 15,000,000/year    \n",
       "6                 4 BEDROOM HOUSE FOR RENT    ₦ 3,500,000/year    \n",
       "7                 5 BEDROOM HOUSE FOR RENT    ₦ 7,000,000/year    \n",
       "8                 5 BEDROOM HOUSE FOR RENT   ₦ 20,000,000/year    \n",
       "9      2 BEDROOM FLAT / APARTMENT FOR RENT    ₦ 4,000,000/year    \n",
       "\n",
       "               completion_stage  agent_contact  \\\n",
       "0                           NaN   8.160442e+09   \n",
       "1           ServicedNewly Built   8.036492e+09   \n",
       "2                           NaN   8.160442e+09   \n",
       "3                           NaN   8.160442e+09   \n",
       "4  FurnishedServicedNewly Built   8.160442e+09   \n",
       "5                           NaN   8.166684e+09   \n",
       "6                   Newly Built   8.160442e+09   \n",
       "7                           NaN   8.160442e+09   \n",
       "8                           NaN   8.160442e+09   \n",
       "9             FurnishedServiced   8.160442e+09   \n",
       "\n",
       "                                  day_posted  \\\n",
       "0    Updated 25 Jul 2022, Added 27 Jun 2022    \n",
       "1    Updated 25 Jul 2022, Added 27 Jun 2022    \n",
       "2    Updated 25 Jul 2022, Added 11 Jun 2022    \n",
       "3    Updated 25 Jul 2022, Added 06 Jul 2022    \n",
       "4    Updated 25 Jul 2022, Added 10 Jul 2022    \n",
       "5    Updated 25 Jul 2022, Added 24 Dec 2021    \n",
       "6    Updated 25 Jul 2022, Added 10 Jun 2022    \n",
       "7    Updated 25 Jul 2022, Added 07 Jun 2022    \n",
       "8    Updated 25 Jul 2022, Added 24 May 2022    \n",
       "9    Updated 25 Jul 2022, Added 16 Jun 2022    \n",
       "\n",
       "                                  apartment_location  \n",
       "0   3 bedroom Flat / Apartment for rent Durumi Abuja  \n",
       "1  4 bedroom House for rent Katampe Extention Dip...  \n",
       "2  2 bedroom Flat / Apartment for rent Gaduwa Est...  \n",
       "3  6 bedroom Commercial Property for rent By Ecow...  \n",
       "4  10 bedroom Commercial Property for rent Katamp...  \n",
       "5          Commercial Property for rent Wuse 2 Abuja  \n",
       "6  4 bedroom House for rent Northstar Garden Esta...  \n",
       "7                5 bedroom House for rent Wuye Abuja  \n",
       "8             5 bedroom House for rent Asokoro Abuja  \n",
       "9     2 bedroom Flat / Apartment for rent Wuye Abuja  "
      ]
     },
     "execution_count": 7,
     "metadata": {},
     "output_type": "execute_result"
    }
   ],
   "source": [
    "real_estate_df.head(10)"
   ]
  },
  {
   "cell_type": "code",
   "execution_count": 8,
   "id": "8c7f7961",
   "metadata": {},
   "outputs": [],
   "source": [
    "real_estate_df.drop(['agent_contact'], axis = 1, inplace=True)"
   ]
  },
  {
   "cell_type": "code",
   "execution_count": 9,
   "id": "aa8a4e90",
   "metadata": {},
   "outputs": [
    {
     "data": {
      "text/html": [
       "<div>\n",
       "<style scoped>\n",
       "    .dataframe tbody tr th:only-of-type {\n",
       "        vertical-align: middle;\n",
       "    }\n",
       "\n",
       "    .dataframe tbody tr th {\n",
       "        vertical-align: top;\n",
       "    }\n",
       "\n",
       "    .dataframe thead th {\n",
       "        text-align: right;\n",
       "    }\n",
       "</style>\n",
       "<table border=\"1\" class=\"dataframe\">\n",
       "  <thead>\n",
       "    <tr style=\"text-align: right;\">\n",
       "      <th></th>\n",
       "      <th>type</th>\n",
       "      <th>price</th>\n",
       "      <th>completion_stage</th>\n",
       "      <th>day_posted</th>\n",
       "      <th>apartment_location</th>\n",
       "    </tr>\n",
       "  </thead>\n",
       "  <tbody>\n",
       "    <tr>\n",
       "      <th>0</th>\n",
       "      <td>3 BEDROOM FLAT / APARTMENT FOR RENT</td>\n",
       "      <td>₦ 3,800,000/year</td>\n",
       "      <td>NaN</td>\n",
       "      <td>Updated 25 Jul 2022, Added 27 Jun 2022</td>\n",
       "      <td>3 bedroom Flat / Apartment for rent Durumi Abuja</td>\n",
       "    </tr>\n",
       "    <tr>\n",
       "      <th>1</th>\n",
       "      <td>4 BEDROOM HOUSE FOR RENT</td>\n",
       "      <td>₦ 7,000,000/year</td>\n",
       "      <td>ServicedNewly Built</td>\n",
       "      <td>Updated 25 Jul 2022, Added 27 Jun 2022</td>\n",
       "      <td>4 bedroom House for rent Katampe Extention Dip...</td>\n",
       "    </tr>\n",
       "    <tr>\n",
       "      <th>2</th>\n",
       "      <td>2 BEDROOM FLAT / APARTMENT FOR RENT</td>\n",
       "      <td>₦ 2,200,000/year</td>\n",
       "      <td>NaN</td>\n",
       "      <td>Updated 25 Jul 2022, Added 11 Jun 2022</td>\n",
       "      <td>2 bedroom Flat / Apartment for rent Gaduwa Est...</td>\n",
       "    </tr>\n",
       "    <tr>\n",
       "      <th>3</th>\n",
       "      <td>6 BEDROOM COMMERCIAL PROPERTY FOR RENT</td>\n",
       "      <td>₦ 20,000,000/year</td>\n",
       "      <td>NaN</td>\n",
       "      <td>Updated 25 Jul 2022, Added 06 Jul 2022</td>\n",
       "      <td>6 bedroom Commercial Property for rent By Ecow...</td>\n",
       "    </tr>\n",
       "    <tr>\n",
       "      <th>4</th>\n",
       "      <td>10 BEDROOM COMMERCIAL PROPERTY FOR RENT</td>\n",
       "      <td>₦ 40,000,000/year</td>\n",
       "      <td>FurnishedServicedNewly Built</td>\n",
       "      <td>Updated 25 Jul 2022, Added 10 Jul 2022</td>\n",
       "      <td>10 bedroom Commercial Property for rent Katamp...</td>\n",
       "    </tr>\n",
       "    <tr>\n",
       "      <th>...</th>\n",
       "      <td>...</td>\n",
       "      <td>...</td>\n",
       "      <td>...</td>\n",
       "      <td>...</td>\n",
       "      <td>...</td>\n",
       "    </tr>\n",
       "    <tr>\n",
       "      <th>10935</th>\n",
       "      <td>HOUSE FOR RENT</td>\n",
       "      <td>₦ 3,100,000</td>\n",
       "      <td>NaN</td>\n",
       "      <td>Added 12 Apr 2017</td>\n",
       "      <td>House for rent Area 11 Abuja</td>\n",
       "    </tr>\n",
       "    <tr>\n",
       "      <th>10936</th>\n",
       "      <td>HOUSE FOR RENT</td>\n",
       "      <td>₦ 7,000,000</td>\n",
       "      <td>NaN</td>\n",
       "      <td>Added 12 Apr 2017</td>\n",
       "      <td>House for rent Asokoro , Abuja Asokoro Abuja</td>\n",
       "    </tr>\n",
       "    <tr>\n",
       "      <th>10937</th>\n",
       "      <td>HOUSE FOR RENT</td>\n",
       "      <td>₦ 3,000,000</td>\n",
       "      <td>NaN</td>\n",
       "      <td>Added 12 Apr 2017</td>\n",
       "      <td>House for rent Asokoro , Abuja Asokoro Abuja</td>\n",
       "    </tr>\n",
       "    <tr>\n",
       "      <th>10938</th>\n",
       "      <td>HOUSE FOR RENT</td>\n",
       "      <td>₦ 3,500,000</td>\n",
       "      <td>NaN</td>\n",
       "      <td>Added 12 Apr 2017</td>\n",
       "      <td>House for rent House 12, Off 69 Road Gwarinpa ...</td>\n",
       "    </tr>\n",
       "    <tr>\n",
       "      <th>10939</th>\n",
       "      <td>3 BEDROOM FLAT / APARTMENT FOR RENT</td>\n",
       "      <td>₦ 2,000,000</td>\n",
       "      <td>NaN</td>\n",
       "      <td>Added 12 Apr 2017</td>\n",
       "      <td>3 bedroom Flat / Apartment for rent Wuye Wuye ...</td>\n",
       "    </tr>\n",
       "  </tbody>\n",
       "</table>\n",
       "<p>10940 rows × 5 columns</p>\n",
       "</div>"
      ],
      "text/plain": [
       "                                          type                price  \\\n",
       "0          3 BEDROOM FLAT / APARTMENT FOR RENT    ₦ 3,800,000/year    \n",
       "1                     4 BEDROOM HOUSE FOR RENT    ₦ 7,000,000/year    \n",
       "2          2 BEDROOM FLAT / APARTMENT FOR RENT    ₦ 2,200,000/year    \n",
       "3       6 BEDROOM COMMERCIAL PROPERTY FOR RENT   ₦ 20,000,000/year    \n",
       "4      10 BEDROOM COMMERCIAL PROPERTY FOR RENT   ₦ 40,000,000/year    \n",
       "...                                        ...                  ...   \n",
       "10935                           HOUSE FOR RENT         ₦ 3,100,000    \n",
       "10936                           HOUSE FOR RENT         ₦ 7,000,000    \n",
       "10937                           HOUSE FOR RENT         ₦ 3,000,000    \n",
       "10938                           HOUSE FOR RENT         ₦ 3,500,000    \n",
       "10939      3 BEDROOM FLAT / APARTMENT FOR RENT         ₦ 2,000,000    \n",
       "\n",
       "                   completion_stage  \\\n",
       "0                               NaN   \n",
       "1               ServicedNewly Built   \n",
       "2                               NaN   \n",
       "3                               NaN   \n",
       "4      FurnishedServicedNewly Built   \n",
       "...                             ...   \n",
       "10935                           NaN   \n",
       "10936                           NaN   \n",
       "10937                           NaN   \n",
       "10938                           NaN   \n",
       "10939                           NaN   \n",
       "\n",
       "                                      day_posted  \\\n",
       "0        Updated 25 Jul 2022, Added 27 Jun 2022    \n",
       "1        Updated 25 Jul 2022, Added 27 Jun 2022    \n",
       "2        Updated 25 Jul 2022, Added 11 Jun 2022    \n",
       "3        Updated 25 Jul 2022, Added 06 Jul 2022    \n",
       "4        Updated 25 Jul 2022, Added 10 Jul 2022    \n",
       "...                                          ...   \n",
       "10935                         Added 12 Apr 2017    \n",
       "10936                         Added 12 Apr 2017    \n",
       "10937                         Added 12 Apr 2017    \n",
       "10938                         Added 12 Apr 2017    \n",
       "10939                         Added 12 Apr 2017    \n",
       "\n",
       "                                      apartment_location  \n",
       "0       3 bedroom Flat / Apartment for rent Durumi Abuja  \n",
       "1      4 bedroom House for rent Katampe Extention Dip...  \n",
       "2      2 bedroom Flat / Apartment for rent Gaduwa Est...  \n",
       "3      6 bedroom Commercial Property for rent By Ecow...  \n",
       "4      10 bedroom Commercial Property for rent Katamp...  \n",
       "...                                                  ...  \n",
       "10935                       House for rent Area 11 Abuja  \n",
       "10936       House for rent Asokoro , Abuja Asokoro Abuja  \n",
       "10937       House for rent Asokoro , Abuja Asokoro Abuja  \n",
       "10938  House for rent House 12, Off 69 Road Gwarinpa ...  \n",
       "10939  3 bedroom Flat / Apartment for rent Wuye Wuye ...  \n",
       "\n",
       "[10940 rows x 5 columns]"
      ]
     },
     "execution_count": 9,
     "metadata": {},
     "output_type": "execute_result"
    }
   ],
   "source": [
    "real_estate_df"
   ]
  },
  {
   "cell_type": "code",
   "execution_count": 10,
   "id": "062ad2e4",
   "metadata": {},
   "outputs": [],
   "source": [
    "#we want to perform get numerical insights from the price table\n",
    "#write function that will look through the price column, and replace values accordingly\n",
    "\n",
    "characters_to_remove = [' ', ',', '/year', '', '₦']\n",
    "regular_expression = '[' + re.escape (''. join (characters_to_remove)) + ']'\n",
    "\n",
    "\n",
    "#data[\"column_name\"] = data[\"column_name\"].apply(lambda x: x.replace(\"characters_need_to_replace\", \"new_characters\"))\n",
    "real_estate_df['price'] = real_estate_df['price'].str.replace(regular_expression, '', regex=True)"
   ]
  },
  {
   "cell_type": "code",
   "execution_count": 11,
   "id": "87bf173f",
   "metadata": {},
   "outputs": [
    {
     "data": {
      "text/plain": [
       "0         3800000\n",
       "1         7000000\n",
       "2         2200000\n",
       "3        20000000\n",
       "4        40000000\n",
       "           ...   \n",
       "10935     3100000\n",
       "10936     7000000\n",
       "10937     3000000\n",
       "10938     3500000\n",
       "10939     2000000\n",
       "Name: price, Length: 10940, dtype: object"
      ]
     },
     "execution_count": 11,
     "metadata": {},
     "output_type": "execute_result"
    }
   ],
   "source": [
    "real_estate_df[\"price\"]"
   ]
  },
  {
   "cell_type": "code",
   "execution_count": 12,
   "id": "0e24552c",
   "metadata": {},
   "outputs": [
    {
     "name": "stderr",
     "output_type": "stream",
     "text": [
      "C:\\Users\\Jeff\\AppData\\Local\\Temp\\ipykernel_4796\\3048529599.py:2: UserWarning: This pattern is interpreted as a regular expression, and has match groups. To actually get the groups, use str.extract.\n",
      "  real_estate_df.drop(real_estate_df.loc[real_estate_df['price'].str.contains(r'(^\\$.*)')].index, inplace = True)\n"
     ]
    }
   ],
   "source": [
    "#there are some disparities in the data, some of the apartment_prices are listed in dollars.\n",
    "real_estate_df.drop(real_estate_df.loc[real_estate_df['price'].str.contains(r'(^\\$.*)')].index, inplace = True)"
   ]
  },
  {
   "cell_type": "code",
   "execution_count": 13,
   "id": "d4a146d9",
   "metadata": {},
   "outputs": [
    {
     "data": {
      "text/plain": [
       "0         3800000\n",
       "1         7000000\n",
       "2         2200000\n",
       "3        20000000\n",
       "4        40000000\n",
       "           ...   \n",
       "10935     3100000\n",
       "10936     7000000\n",
       "10937     3000000\n",
       "10938     3500000\n",
       "10939     2000000\n",
       "Name: price, Length: 10899, dtype: object"
      ]
     },
     "execution_count": 13,
     "metadata": {},
     "output_type": "execute_result"
    }
   ],
   "source": [
    "real_estate_df['price']"
   ]
  },
  {
   "cell_type": "code",
   "execution_count": 14,
   "id": "e14a9686",
   "metadata": {},
   "outputs": [
    {
     "name": "stderr",
     "output_type": "stream",
     "text": [
      "C:\\Users\\Jeff\\AppData\\Local\\Temp\\ipykernel_4796\\103638274.py:2: UserWarning: This pattern is interpreted as a regular expression, and has match groups. To actually get the groups, use str.extract.\n",
      "  real_estate_df.drop(real_estate_df.loc[real_estate_df['price'].str.contains(r'([day]$.*)')].index, inplace = True)\n"
     ]
    }
   ],
   "source": [
    "#drop some dataset having rent paid per day\n",
    "real_estate_df.drop(real_estate_df.loc[real_estate_df['price'].str.contains(r'([day]$.*)')].index, inplace = True)"
   ]
  },
  {
   "cell_type": "code",
   "execution_count": 68,
   "id": "196c944f",
   "metadata": {},
   "outputs": [
    {
     "data": {
      "text/plain": [
       "array(['3800000', '7000000', '2200000', '20000000', '40000000',\n",
       "       '15000000', '3500000', '4000000', '3000000', '2000000', '5000000',\n",
       "       '2500000', '7500000', '6000000', '16000000', '1800000', '10000000',\n",
       "       '24000000', '25000000000', '13000000', '1200000', '500000',\n",
       "       '350000', '16500000', '4500000', '12000000', '50000', '22000000',\n",
       "       '8000000', '2250000', '23000000', '8500000', '1300000', '21000sqm',\n",
       "       '1500000', '1000000', '2570000', '800000', '6500000', '650000',\n",
       "       '600000', '1600000', '50000000', '65000000', '1750000', '18000000',\n",
       "       '14000000', '900000', '1400000', '30000000', '850000', '1700000',\n",
       "       '550000', '35000sqm', '3400000', '5500000', '7200000', '10500000',\n",
       "       '2600000', '1900000', '12800000', '25000000', '2700000', '750000',\n",
       "       '250000', '35000000', '30000sqm', '12500000', '80000000',\n",
       "       '150000000', '32000000', '2900000', '9000000', '300000', '400000',\n",
       "       '4400000', '12400000', '120000000', '320000', '700000', '6100000',\n",
       "       '2750000', '15000sqm', '36000000', '60000000', '1350000',\n",
       "       '2300000', '3200000', '1100000', '2800000', '11000000', '12000',\n",
       "       '2000000sqm', '26000000', '450000', '150000', '5600000', '3600000',\n",
       "       '8370000', '35000', '4032000', '3492000', '2070000', '25000',\n",
       "       '1850000', '45000000', '13800000', '400', '22800000', '230000',\n",
       "       '950000', '1275000', '22900000', '26325000', '12340000',\n",
       "       '17600000', '21000000', '28000000', '7700000', '70000000',\n",
       "       '18750000', '1150000', '170000', '14910000', '60000', '55000sqm',\n",
       "       '270000', '75000sqm', '40000sqm', '100000sqm', '20000', '36000sqm',\n",
       "       '2140000', '5100000', '3250000', '80000sqm', '3300000', '7615000',\n",
       "       '25000sqm', '1950000', '90000000', '90000sqm', '55000', '4800000',\n",
       "       '2400000', '4200000', '55000000', '17000000', '880000', '4290000',\n",
       "       '1512', '8300000', '8400000', '25840000', '85000sqm', '23024000',\n",
       "       '50000sqm', '150000month', '11500000', '1224000', '888888sqm',\n",
       "       '1650000', '7800000', '3700000', '100000000', '27000000', '370000',\n",
       "       '15500000', '1760000', '3100000', '6800000', '13500000',\n",
       "       '16600000', '6825000', '9500000', '8250000', '4440000', '3675000',\n",
       "       '82000000', '20000000sqm', '45000sqm', '19000000', '2100000',\n",
       "       '1050000', '5250000', '800000000', '5', '390000', '700', '1250000',\n",
       "       '2500009', '1000', '200000month', '38000000', '4950000',\n",
       "       '8000000000', '4', '1725000', '180000', '85000000', '19200000',\n",
       "       '48000000', '200000', '4600000', '4300000', '42000000', '4350000',\n",
       "       '1080000', '200000000', '440000', '2500000month', '43336month',\n",
       "       '220000', '3330000', '5900000', '960000', '2600000000',\n",
       "       '3300000000', '170000000', '2500000000', '33000000', '6700000',\n",
       "       '280000', '1415000', '290000', '120000', '330000', '1300',\n",
       "       '3900000', '730000', '260000', '4900000', '420000', '130000',\n",
       "       '90000', '2550000', '14500000', '980000', '3', '3000000000',\n",
       "       '2000000000', '90000month', '2200000000', '14800000', '21600000',\n",
       "       '3750000', '15000000month', '297000', '989000', '1540000',\n",
       "       '6900000', '5750000', '7300000', '3650000', '8800000', '5300000',\n",
       "       '18500000', '1620000', '1200000000', '460000', '75000', '670000',\n",
       "       '680000', '810000', '85000', '100000', '70000', '400000000',\n",
       "       '780000', '1300099', '970000', '130000000', '250000000', '1',\n",
       "       '8500099', '40000', '900000000', '480000', '2220000', '2850000',\n",
       "       '110000', '1160000', '5800000', '30000', '565000', '720000',\n",
       "       '1260000', '2270000', '2350000', '1820000', '5400000', '4250000',\n",
       "       '2785000', '10200000', '4550000', '4700000', '3980000', '4100000',\n",
       "       '550000000', '19250000', '1450000', '21500000', '3000300',\n",
       "       '62000000', '500000000', '180000000', '3020000', '350000000',\n",
       "       '3550000', '9900000', '6750000', '893000', '1530000', '29000000',\n",
       "       '160000', '520000', '870000', '9200000', '28000', '5200000',\n",
       "       '1550000', '799999', '430000', '5700000', '2610000', '6400000',\n",
       "       '7400000', '164000000', '22000', '1930000', '625000', '3000',\n",
       "       '2950000', '7812500', '22995000', '525000', '865000', '990000',\n",
       "       '1110000', '5850000', '32000', '849000', '240000', '65000',\n",
       "       '465000000', '6988000', '80000', '20312500', '690000', '15000',\n",
       "       '175000', '2050000', '1500', '2450000', '225000', '920000',\n",
       "       '1099000', '899000', '850000000', '300', '19065000', '3939015',\n",
       "       '2650000', '99000', '1116000', '2800996', '33900', '1371174',\n",
       "       '840422'], dtype=object)"
      ]
     },
     "execution_count": 68,
     "metadata": {},
     "output_type": "execute_result"
    }
   ],
   "source": [
    "real_estate_df['price'].unique()"
   ]
  },
  {
   "cell_type": "code",
   "execution_count": 15,
   "id": "5d2da9b3",
   "metadata": {},
   "outputs": [],
   "source": [
    "characters_to_drop = ['sqm','month']\n",
    "regular_exp = '[' + re.escape (''. join (characters_to_drop)) + ']'\n",
    "\n",
    "real_estate_df.drop(real_estate_df.loc[real_estate_df['price'].str.contains(regular_exp)].index, inplace = True)"
   ]
  },
  {
   "cell_type": "code",
   "execution_count": 71,
   "id": "401958aa",
   "metadata": {},
   "outputs": [
    {
     "data": {
      "text/plain": [
       "array(['3800000', '7000000', '2200000', '20000000', '40000000',\n",
       "       '15000000', '3500000', '4000000', '3000000', '2000000', '5000000',\n",
       "       '2500000', '7500000', '6000000', '16000000', '1800000', '10000000',\n",
       "       '24000000', '25000000000', '13000000', '1200000', '500000',\n",
       "       '350000', '16500000', '4500000', '12000000', '50000', '22000000',\n",
       "       '8000000', '2250000', '23000000', '8500000', '1300000', '1500000',\n",
       "       '1000000', '2570000', '800000', '6500000', '650000', '600000',\n",
       "       '1600000', '50000000', '65000000', '1750000', '18000000',\n",
       "       '14000000', '900000', '1400000', '30000000', '850000', '1700000',\n",
       "       '550000', '3400000', '5500000', '7200000', '10500000', '2600000',\n",
       "       '1900000', '12800000', '25000000', '2700000', '750000', '250000',\n",
       "       '35000000', '12500000', '80000000', '150000000', '32000000',\n",
       "       '2900000', '9000000', '300000', '400000', '4400000', '12400000',\n",
       "       '120000000', '320000', '700000', '6100000', '2750000', '36000000',\n",
       "       '60000000', '1350000', '2300000', '3200000', '1100000', '2800000',\n",
       "       '11000000', '12000', '26000000', '450000', '150000', '5600000',\n",
       "       '3600000', '8370000', '35000', '4032000', '3492000', '2070000',\n",
       "       '25000', '1850000', '45000000', '13800000', '400', '22800000',\n",
       "       '230000', '950000', '1275000', '22900000', '26325000', '12340000',\n",
       "       '17600000', '21000000', '28000000', '7700000', '70000000',\n",
       "       '18750000', '1150000', '170000', '14910000', '60000', '270000',\n",
       "       '20000', '2140000', '5100000', '3250000', '3300000', '7615000',\n",
       "       '1950000', '90000000', '55000', '4800000', '2400000', '4200000',\n",
       "       '55000000', '17000000', '880000', '4290000', '1512', '8300000',\n",
       "       '8400000', '25840000', '23024000', '11500000', '1224000',\n",
       "       '1650000', '7800000', '3700000', '100000000', '27000000', '370000',\n",
       "       '15500000', '1760000', '3100000', '6800000', '13500000',\n",
       "       '16600000', '6825000', '9500000', '8250000', '4440000', '3675000',\n",
       "       '82000000', '19000000', '2100000', '1050000', '5250000',\n",
       "       '800000000', '5', '390000', '700', '1250000', '2500009', '1000',\n",
       "       '38000000', '4950000', '8000000000', '4', '1725000', '180000',\n",
       "       '85000000', '19200000', '48000000', '200000', '4600000', '4300000',\n",
       "       '42000000', '4350000', '1080000', '200000000', '440000', '220000',\n",
       "       '3330000', '5900000', '960000', '2600000000', '3300000000',\n",
       "       '170000000', '2500000000', '33000000', '6700000', '280000',\n",
       "       '1415000', '290000', '120000', '330000', '1300', '3900000',\n",
       "       '730000', '260000', '4900000', '420000', '130000', '90000',\n",
       "       '2550000', '14500000', '980000', '3', '3000000000', '2000000000',\n",
       "       '2200000000', '14800000', '21600000', '3750000', '297000',\n",
       "       '989000', '1540000', '6900000', '5750000', '7300000', '3650000',\n",
       "       '8800000', '5300000', '18500000', '1620000', '1200000000',\n",
       "       '460000', '75000', '670000', '680000', '810000', '85000', '100000',\n",
       "       '70000', '400000000', '780000', '1300099', '970000', '130000000',\n",
       "       '250000000', '1', '8500099', '40000', '900000000', '480000',\n",
       "       '2220000', '2850000', '110000', '1160000', '5800000', '30000',\n",
       "       '565000', '720000', '1260000', '2270000', '2350000', '1820000',\n",
       "       '5400000', '4250000', '2785000', '10200000', '4550000', '4700000',\n",
       "       '3980000', '4100000', '550000000', '19250000', '1450000',\n",
       "       '21500000', '3000300', '62000000', '500000000', '180000000',\n",
       "       '3020000', '350000000', '3550000', '9900000', '6750000', '893000',\n",
       "       '1530000', '29000000', '160000', '520000', '870000', '9200000',\n",
       "       '28000', '5200000', '1550000', '799999', '430000', '5700000',\n",
       "       '2610000', '6400000', '7400000', '164000000', '22000', '1930000',\n",
       "       '625000', '3000', '2950000', '7812500', '22995000', '525000',\n",
       "       '865000', '990000', '1110000', '5850000', '32000', '849000',\n",
       "       '240000', '65000', '465000000', '6988000', '80000', '20312500',\n",
       "       '690000', '15000', '175000', '2050000', '1500', '2450000',\n",
       "       '225000', '920000', '1099000', '899000', '850000000', '300',\n",
       "       '19065000', '3939015', '2650000', '99000', '1116000', '2800996',\n",
       "       '33900', '1371174', '840422'], dtype=object)"
      ]
     },
     "execution_count": 71,
     "metadata": {},
     "output_type": "execute_result"
    }
   ],
   "source": [
    "real_estate_df['price'].unique()"
   ]
  },
  {
   "cell_type": "code",
   "execution_count": 16,
   "id": "57af6029",
   "metadata": {},
   "outputs": [],
   "source": [
    "#now convert apartment_price from string to int\n",
    "real_estate_df['price'] = real_estate_df['price'].astype(float)"
   ]
  },
  {
   "cell_type": "code",
   "execution_count": 17,
   "id": "ef2a8a40",
   "metadata": {},
   "outputs": [],
   "source": [
    "#drop unrealistic price like this, which might cause the data and analtyics skewed\n",
    "real_estate_df.drop(real_estate_df.loc[real_estate_df['price'] < 10].index, inplace = True)"
   ]
  },
  {
   "cell_type": "code",
   "execution_count": 18,
   "id": "88b566d3",
   "metadata": {},
   "outputs": [],
   "source": [
    "location = real_estate_df['apartment_location'].str.split(pat = 'for rent', expand = True)\n",
    "real_estate_df[['info', 'Location']] = location"
   ]
  },
  {
   "cell_type": "code",
   "execution_count": 80,
   "id": "12acf494",
   "metadata": {},
   "outputs": [
    {
     "data": {
      "text/html": [
       "<div>\n",
       "<style scoped>\n",
       "    .dataframe tbody tr th:only-of-type {\n",
       "        vertical-align: middle;\n",
       "    }\n",
       "\n",
       "    .dataframe tbody tr th {\n",
       "        vertical-align: top;\n",
       "    }\n",
       "\n",
       "    .dataframe thead th {\n",
       "        text-align: right;\n",
       "    }\n",
       "</style>\n",
       "<table border=\"1\" class=\"dataframe\">\n",
       "  <thead>\n",
       "    <tr style=\"text-align: right;\">\n",
       "      <th></th>\n",
       "      <th>type</th>\n",
       "      <th>price</th>\n",
       "      <th>completion_stage</th>\n",
       "      <th>day_posted</th>\n",
       "      <th>apartment_location</th>\n",
       "      <th>info</th>\n",
       "      <th>Location</th>\n",
       "    </tr>\n",
       "  </thead>\n",
       "  <tbody>\n",
       "    <tr>\n",
       "      <th>0</th>\n",
       "      <td>3 BEDROOM FLAT / APARTMENT FOR RENT</td>\n",
       "      <td>3800000.0</td>\n",
       "      <td>NaN</td>\n",
       "      <td>Updated 25 Jul 2022, Added 27 Jun 2022</td>\n",
       "      <td>3 bedroom Flat / Apartment for rent Durumi Abuja</td>\n",
       "      <td>3 bedroom Flat / Apartment</td>\n",
       "      <td>Durumi Abuja</td>\n",
       "    </tr>\n",
       "    <tr>\n",
       "      <th>1</th>\n",
       "      <td>4 BEDROOM HOUSE FOR RENT</td>\n",
       "      <td>7000000.0</td>\n",
       "      <td>ServicedNewly Built</td>\n",
       "      <td>Updated 25 Jul 2022, Added 27 Jun 2022</td>\n",
       "      <td>4 bedroom House for rent Katampe Extention Dip...</td>\n",
       "      <td>4 bedroom House</td>\n",
       "      <td>Katampe Extention Diplomatic Zone Katampe Ext...</td>\n",
       "    </tr>\n",
       "    <tr>\n",
       "      <th>2</th>\n",
       "      <td>2 BEDROOM FLAT / APARTMENT FOR RENT</td>\n",
       "      <td>2200000.0</td>\n",
       "      <td>NaN</td>\n",
       "      <td>Updated 25 Jul 2022, Added 11 Jun 2022</td>\n",
       "      <td>2 bedroom Flat / Apartment for rent Gaduwa Est...</td>\n",
       "      <td>2 bedroom Flat / Apartment</td>\n",
       "      <td>Gaduwa Estate Gaduwa Abuja</td>\n",
       "    </tr>\n",
       "    <tr>\n",
       "      <th>3</th>\n",
       "      <td>6 BEDROOM COMMERCIAL PROPERTY FOR RENT</td>\n",
       "      <td>20000000.0</td>\n",
       "      <td>NaN</td>\n",
       "      <td>Updated 25 Jul 2022, Added 06 Jul 2022</td>\n",
       "      <td>6 bedroom Commercial Property for rent By Ecow...</td>\n",
       "      <td>6 bedroom Commercial Property</td>\n",
       "      <td>By Ecowas Asokoro Abuja</td>\n",
       "    </tr>\n",
       "    <tr>\n",
       "      <th>4</th>\n",
       "      <td>10 BEDROOM COMMERCIAL PROPERTY FOR RENT</td>\n",
       "      <td>40000000.0</td>\n",
       "      <td>FurnishedServicedNewly Built</td>\n",
       "      <td>Updated 25 Jul 2022, Added 10 Jul 2022</td>\n",
       "      <td>10 bedroom Commercial Property for rent Katamp...</td>\n",
       "      <td>10 bedroom Commercial Property</td>\n",
       "      <td>Katampe Ext Abuja</td>\n",
       "    </tr>\n",
       "    <tr>\n",
       "      <th>5</th>\n",
       "      <td>COMMERCIAL PROPERTY FOR RENT</td>\n",
       "      <td>15000000.0</td>\n",
       "      <td>NaN</td>\n",
       "      <td>Updated 25 Jul 2022, Added 24 Dec 2021</td>\n",
       "      <td>Commercial Property for rent Wuse 2 Abuja</td>\n",
       "      <td>Commercial Property</td>\n",
       "      <td>Wuse 2 Abuja</td>\n",
       "    </tr>\n",
       "    <tr>\n",
       "      <th>6</th>\n",
       "      <td>4 BEDROOM HOUSE FOR RENT</td>\n",
       "      <td>3500000.0</td>\n",
       "      <td>Newly Built</td>\n",
       "      <td>Updated 25 Jul 2022, Added 10 Jun 2022</td>\n",
       "      <td>4 bedroom House for rent Northstar Garden Esta...</td>\n",
       "      <td>4 bedroom House</td>\n",
       "      <td>Northstar Garden Estate Lokogoma Abuja</td>\n",
       "    </tr>\n",
       "    <tr>\n",
       "      <th>7</th>\n",
       "      <td>5 BEDROOM HOUSE FOR RENT</td>\n",
       "      <td>7000000.0</td>\n",
       "      <td>NaN</td>\n",
       "      <td>Updated 25 Jul 2022, Added 07 Jun 2022</td>\n",
       "      <td>5 bedroom House for rent Wuye Abuja</td>\n",
       "      <td>5 bedroom House</td>\n",
       "      <td>Wuye Abuja</td>\n",
       "    </tr>\n",
       "    <tr>\n",
       "      <th>8</th>\n",
       "      <td>5 BEDROOM HOUSE FOR RENT</td>\n",
       "      <td>20000000.0</td>\n",
       "      <td>NaN</td>\n",
       "      <td>Updated 25 Jul 2022, Added 24 May 2022</td>\n",
       "      <td>5 bedroom House for rent Asokoro Abuja</td>\n",
       "      <td>5 bedroom House</td>\n",
       "      <td>Asokoro Abuja</td>\n",
       "    </tr>\n",
       "    <tr>\n",
       "      <th>9</th>\n",
       "      <td>2 BEDROOM FLAT / APARTMENT FOR RENT</td>\n",
       "      <td>4000000.0</td>\n",
       "      <td>FurnishedServiced</td>\n",
       "      <td>Updated 25 Jul 2022, Added 16 Jun 2022</td>\n",
       "      <td>2 bedroom Flat / Apartment for rent Wuye Abuja</td>\n",
       "      <td>2 bedroom Flat / Apartment</td>\n",
       "      <td>Wuye Abuja</td>\n",
       "    </tr>\n",
       "    <tr>\n",
       "      <th>10</th>\n",
       "      <td>4 BEDROOM HOUSE FOR RENT</td>\n",
       "      <td>7000000.0</td>\n",
       "      <td>Newly Built</td>\n",
       "      <td>Updated 25 Jul 2022, Added 08 Jun 2022</td>\n",
       "      <td>4 bedroom House for rent Diplomatic Zone Katam...</td>\n",
       "      <td>4 bedroom House</td>\n",
       "      <td>Diplomatic Zone Katampe Ext Abuja</td>\n",
       "    </tr>\n",
       "    <tr>\n",
       "      <th>11</th>\n",
       "      <td>3 BEDROOM FLAT / APARTMENT FOR RENT</td>\n",
       "      <td>3000000.0</td>\n",
       "      <td>NaN</td>\n",
       "      <td>Updated 25 Jul 2022, Added 14 Jul 2022</td>\n",
       "      <td>3 bedroom Flat / Apartment for rent Paradise E...</td>\n",
       "      <td>3 bedroom Flat / Apartment</td>\n",
       "      <td>Paradise Estate Life Camp Abuja</td>\n",
       "    </tr>\n",
       "    <tr>\n",
       "      <th>12</th>\n",
       "      <td>5 BEDROOM HOUSE FOR RENT</td>\n",
       "      <td>4000000.0</td>\n",
       "      <td>Serviced</td>\n",
       "      <td>Updated 25 Jul 2022, Added 07 Jul 2022</td>\n",
       "      <td>5 bedroom House for rent Gwarinpa Abuja</td>\n",
       "      <td>5 bedroom House</td>\n",
       "      <td>Gwarinpa Abuja</td>\n",
       "    </tr>\n",
       "    <tr>\n",
       "      <th>13</th>\n",
       "      <td>2 BEDROOM FLAT / APARTMENT FOR RENT</td>\n",
       "      <td>2000000.0</td>\n",
       "      <td>Newly Built</td>\n",
       "      <td>Updated 25 Jul 2022, Added 06 Jul 2022</td>\n",
       "      <td>2 bedroom Flat / Apartment for rent River Park...</td>\n",
       "      <td>2 bedroom Flat / Apartment</td>\n",
       "      <td>River Park Estate Lugbe Abuja</td>\n",
       "    </tr>\n",
       "    <tr>\n",
       "      <th>14</th>\n",
       "      <td>COMMERCIAL PROPERTY FOR RENT</td>\n",
       "      <td>5000000.0</td>\n",
       "      <td>Furnished</td>\n",
       "      <td>Updated 25 Jul 2022, Added 15 Jun 2022</td>\n",
       "      <td>Commercial Property for rent 6th Avenue Gwarin...</td>\n",
       "      <td>Commercial Property</td>\n",
       "      <td>6th Avenue Gwarinpa Abuja</td>\n",
       "    </tr>\n",
       "    <tr>\n",
       "      <th>16</th>\n",
       "      <td>FLAT / APARTMENT FOR RENT</td>\n",
       "      <td>4000000.0</td>\n",
       "      <td>Serviced</td>\n",
       "      <td>Updated 25 Jul 2022, Added 28 Jun 2022</td>\n",
       "      <td>Flat / Apartment for rent Jabi Abuja</td>\n",
       "      <td>Flat / Apartment</td>\n",
       "      <td>Jabi Abuja</td>\n",
       "    </tr>\n",
       "    <tr>\n",
       "      <th>17</th>\n",
       "      <td>2 BEDROOM FLAT / APARTMENT FOR RENT</td>\n",
       "      <td>2500000.0</td>\n",
       "      <td>NaN</td>\n",
       "      <td>Updated 25 Jul 2022, Added 08 Jul 2022</td>\n",
       "      <td>2 bedroom Flat / Apartment for rent Jabi Abuja</td>\n",
       "      <td>2 bedroom Flat / Apartment</td>\n",
       "      <td>Jabi Abuja</td>\n",
       "    </tr>\n",
       "    <tr>\n",
       "      <th>18</th>\n",
       "      <td>HOUSE FOR RENT</td>\n",
       "      <td>7000000.0</td>\n",
       "      <td>Serviced</td>\n",
       "      <td>Updated 25 Jul 2022, Added 22 Jun 2022</td>\n",
       "      <td>House for rent Jahi Abuja</td>\n",
       "      <td>House</td>\n",
       "      <td>Jahi Abuja</td>\n",
       "    </tr>\n",
       "    <tr>\n",
       "      <th>19</th>\n",
       "      <td>4 BEDROOM HOUSE FOR RENT</td>\n",
       "      <td>7500000.0</td>\n",
       "      <td>NaN</td>\n",
       "      <td>Updated 25 Jul 2022, Added 21 May 2022</td>\n",
       "      <td>4 bedroom House for rent Guzape Abuja</td>\n",
       "      <td>4 bedroom House</td>\n",
       "      <td>Guzape Abuja</td>\n",
       "    </tr>\n",
       "  </tbody>\n",
       "</table>\n",
       "</div>"
      ],
      "text/plain": [
       "                                       type       price  \\\n",
       "0       3 BEDROOM FLAT / APARTMENT FOR RENT   3800000.0   \n",
       "1                  4 BEDROOM HOUSE FOR RENT   7000000.0   \n",
       "2       2 BEDROOM FLAT / APARTMENT FOR RENT   2200000.0   \n",
       "3    6 BEDROOM COMMERCIAL PROPERTY FOR RENT  20000000.0   \n",
       "4   10 BEDROOM COMMERCIAL PROPERTY FOR RENT  40000000.0   \n",
       "5              COMMERCIAL PROPERTY FOR RENT  15000000.0   \n",
       "6                  4 BEDROOM HOUSE FOR RENT   3500000.0   \n",
       "7                  5 BEDROOM HOUSE FOR RENT   7000000.0   \n",
       "8                  5 BEDROOM HOUSE FOR RENT  20000000.0   \n",
       "9       2 BEDROOM FLAT / APARTMENT FOR RENT   4000000.0   \n",
       "10                 4 BEDROOM HOUSE FOR RENT   7000000.0   \n",
       "11      3 BEDROOM FLAT / APARTMENT FOR RENT   3000000.0   \n",
       "12                 5 BEDROOM HOUSE FOR RENT   4000000.0   \n",
       "13      2 BEDROOM FLAT / APARTMENT FOR RENT   2000000.0   \n",
       "14             COMMERCIAL PROPERTY FOR RENT   5000000.0   \n",
       "16                FLAT / APARTMENT FOR RENT   4000000.0   \n",
       "17      2 BEDROOM FLAT / APARTMENT FOR RENT   2500000.0   \n",
       "18                           HOUSE FOR RENT   7000000.0   \n",
       "19                 4 BEDROOM HOUSE FOR RENT   7500000.0   \n",
       "\n",
       "                completion_stage                                 day_posted  \\\n",
       "0                            NaN    Updated 25 Jul 2022, Added 27 Jun 2022    \n",
       "1            ServicedNewly Built    Updated 25 Jul 2022, Added 27 Jun 2022    \n",
       "2                            NaN    Updated 25 Jul 2022, Added 11 Jun 2022    \n",
       "3                            NaN    Updated 25 Jul 2022, Added 06 Jul 2022    \n",
       "4   FurnishedServicedNewly Built    Updated 25 Jul 2022, Added 10 Jul 2022    \n",
       "5                            NaN    Updated 25 Jul 2022, Added 24 Dec 2021    \n",
       "6                    Newly Built    Updated 25 Jul 2022, Added 10 Jun 2022    \n",
       "7                            NaN    Updated 25 Jul 2022, Added 07 Jun 2022    \n",
       "8                            NaN    Updated 25 Jul 2022, Added 24 May 2022    \n",
       "9              FurnishedServiced    Updated 25 Jul 2022, Added 16 Jun 2022    \n",
       "10                   Newly Built    Updated 25 Jul 2022, Added 08 Jun 2022    \n",
       "11                           NaN    Updated 25 Jul 2022, Added 14 Jul 2022    \n",
       "12                      Serviced    Updated 25 Jul 2022, Added 07 Jul 2022    \n",
       "13                   Newly Built    Updated 25 Jul 2022, Added 06 Jul 2022    \n",
       "14                     Furnished    Updated 25 Jul 2022, Added 15 Jun 2022    \n",
       "16                      Serviced    Updated 25 Jul 2022, Added 28 Jun 2022    \n",
       "17                           NaN    Updated 25 Jul 2022, Added 08 Jul 2022    \n",
       "18                      Serviced    Updated 25 Jul 2022, Added 22 Jun 2022    \n",
       "19                           NaN    Updated 25 Jul 2022, Added 21 May 2022    \n",
       "\n",
       "                                   apartment_location  \\\n",
       "0    3 bedroom Flat / Apartment for rent Durumi Abuja   \n",
       "1   4 bedroom House for rent Katampe Extention Dip...   \n",
       "2   2 bedroom Flat / Apartment for rent Gaduwa Est...   \n",
       "3   6 bedroom Commercial Property for rent By Ecow...   \n",
       "4   10 bedroom Commercial Property for rent Katamp...   \n",
       "5           Commercial Property for rent Wuse 2 Abuja   \n",
       "6   4 bedroom House for rent Northstar Garden Esta...   \n",
       "7                 5 bedroom House for rent Wuye Abuja   \n",
       "8              5 bedroom House for rent Asokoro Abuja   \n",
       "9      2 bedroom Flat / Apartment for rent Wuye Abuja   \n",
       "10  4 bedroom House for rent Diplomatic Zone Katam...   \n",
       "11  3 bedroom Flat / Apartment for rent Paradise E...   \n",
       "12            5 bedroom House for rent Gwarinpa Abuja   \n",
       "13  2 bedroom Flat / Apartment for rent River Park...   \n",
       "14  Commercial Property for rent 6th Avenue Gwarin...   \n",
       "16               Flat / Apartment for rent Jabi Abuja   \n",
       "17     2 bedroom Flat / Apartment for rent Jabi Abuja   \n",
       "18                          House for rent Jahi Abuja   \n",
       "19              4 bedroom House for rent Guzape Abuja   \n",
       "\n",
       "                               info  \\\n",
       "0       3 bedroom Flat / Apartment    \n",
       "1                  4 bedroom House    \n",
       "2       2 bedroom Flat / Apartment    \n",
       "3    6 bedroom Commercial Property    \n",
       "4   10 bedroom Commercial Property    \n",
       "5              Commercial Property    \n",
       "6                  4 bedroom House    \n",
       "7                  5 bedroom House    \n",
       "8                  5 bedroom House    \n",
       "9       2 bedroom Flat / Apartment    \n",
       "10                 4 bedroom House    \n",
       "11      3 bedroom Flat / Apartment    \n",
       "12                 5 bedroom House    \n",
       "13      2 bedroom Flat / Apartment    \n",
       "14             Commercial Property    \n",
       "16                Flat / Apartment    \n",
       "17      2 bedroom Flat / Apartment    \n",
       "18                           House    \n",
       "19                 4 bedroom House    \n",
       "\n",
       "                                             Location  \n",
       "0                                        Durumi Abuja  \n",
       "1    Katampe Extention Diplomatic Zone Katampe Ext...  \n",
       "2                          Gaduwa Estate Gaduwa Abuja  \n",
       "3                             By Ecowas Asokoro Abuja  \n",
       "4                                   Katampe Ext Abuja  \n",
       "5                                        Wuse 2 Abuja  \n",
       "6              Northstar Garden Estate Lokogoma Abuja  \n",
       "7                                          Wuye Abuja  \n",
       "8                                       Asokoro Abuja  \n",
       "9                                          Wuye Abuja  \n",
       "10                  Diplomatic Zone Katampe Ext Abuja  \n",
       "11                    Paradise Estate Life Camp Abuja  \n",
       "12                                     Gwarinpa Abuja  \n",
       "13                      River Park Estate Lugbe Abuja  \n",
       "14                          6th Avenue Gwarinpa Abuja  \n",
       "16                                         Jabi Abuja  \n",
       "17                                         Jabi Abuja  \n",
       "18                                         Jahi Abuja  \n",
       "19                                       Guzape Abuja  "
      ]
     },
     "execution_count": 80,
     "metadata": {},
     "output_type": "execute_result"
    }
   ],
   "source": [
    "real_estate_df.head(19)"
   ]
  },
  {
   "cell_type": "code",
   "execution_count": 19,
   "id": "033f9823",
   "metadata": {},
   "outputs": [],
   "source": [
    "real_estate_df.drop(['apartment_location', 'info'], axis=1, inplace = True)"
   ]
  },
  {
   "cell_type": "code",
   "execution_count": 20,
   "id": "24e5e045",
   "metadata": {},
   "outputs": [
    {
     "name": "stdout",
     "output_type": "stream",
     "text": [
      "<class 'pandas.core.frame.DataFrame'>\n",
      "Int64Index: 10848 entries, 0 to 10939\n",
      "Data columns (total 5 columns):\n",
      " #   Column            Non-Null Count  Dtype  \n",
      "---  ------            --------------  -----  \n",
      " 0   type              10848 non-null  object \n",
      " 1   price             10848 non-null  float64\n",
      " 2   completion_stage  4342 non-null   object \n",
      " 3   day_posted        10848 non-null  object \n",
      " 4   Location          10848 non-null  object \n",
      "dtypes: float64(1), object(4)\n",
      "memory usage: 508.5+ KB\n"
     ]
    }
   ],
   "source": [
    "real_estate_df.info()"
   ]
  },
  {
   "cell_type": "raw",
   "id": "a8d459e2",
   "metadata": {},
   "source": []
  },
  {
   "cell_type": "code",
   "execution_count": 21,
   "id": "fa3d173c",
   "metadata": {},
   "outputs": [
    {
     "name": "stderr",
     "output_type": "stream",
     "text": [
      "C:\\Users\\Jeff\\AppData\\Local\\Temp\\ipykernel_4796\\3656316192.py:2: UserWarning: This pattern is interpreted as a regular expression, and has match groups. To actually get the groups, use str.extract.\n",
      "  real_estate_df.loc[real_estate_df['type'].str.contains(r'(^SELF.*)'), 'type'] = 'Self_contain'\n"
     ]
    }
   ],
   "source": [
    "#to easily group the dataset \n",
    "real_estate_df.loc[real_estate_df['type'].str.contains(r'(^SELF.*)'), 'type'] = 'Self_contain'\n",
    "\n",
    "\n",
    "#df['name'].str.contains(r'(^SELF.*)')\n",
    "#df.loc[self_filt, 'name'] =\"Self_contain\""
   ]
  },
  {
   "cell_type": "code",
   "execution_count": 34,
   "id": "538f5927",
   "metadata": {},
   "outputs": [
    {
     "name": "stderr",
     "output_type": "stream",
     "text": [
      "C:\\Users\\Jeff\\AppData\\Local\\Temp\\ipykernel_4796\\289021338.py:1: UserWarning: This pattern is interpreted as a regular expression, and has match groups. To actually get the groups, use str.extract.\n",
      "  real_estate_df.loc[real_estate_df['type'].str.contains(r'(^1\\s+)'), 'type'] = 'One_Bed'\n",
      "C:\\Users\\Jeff\\AppData\\Local\\Temp\\ipykernel_4796\\289021338.py:2: UserWarning: This pattern is interpreted as a regular expression, and has match groups. To actually get the groups, use str.extract.\n",
      "  real_estate_df.loc[real_estate_df['type'].str.contains(r'(^2\\s+)'), 'type'] = 'Two_Beds'\n",
      "C:\\Users\\Jeff\\AppData\\Local\\Temp\\ipykernel_4796\\289021338.py:3: UserWarning: This pattern is interpreted as a regular expression, and has match groups. To actually get the groups, use str.extract.\n",
      "  real_estate_df.loc[real_estate_df['type'].str.contains(r'(^3\\s+)'), 'type'] = 'Three_Beds'\n",
      "C:\\Users\\Jeff\\AppData\\Local\\Temp\\ipykernel_4796\\289021338.py:4: UserWarning: This pattern is interpreted as a regular expression, and has match groups. To actually get the groups, use str.extract.\n",
      "  real_estate_df.loc[real_estate_df['type'].str.contains(r'(^4\\s+)'), 'type'] = 'Four_Beds'\n",
      "C:\\Users\\Jeff\\AppData\\Local\\Temp\\ipykernel_4796\\289021338.py:5: UserWarning: This pattern is interpreted as a regular expression, and has match groups. To actually get the groups, use str.extract.\n",
      "  real_estate_df.loc[real_estate_df['type'].str.contains(r'(^5\\s+)'), 'type'] = 'Five_Beds'\n",
      "C:\\Users\\Jeff\\AppData\\Local\\Temp\\ipykernel_4796\\289021338.py:6: UserWarning: This pattern is interpreted as a regular expression, and has match groups. To actually get the groups, use str.extract.\n",
      "  real_estate_df.loc[real_estate_df['type'].str.contains(r'(^6\\s+)'), 'type'] = 'Six_Beds'\n",
      "C:\\Users\\Jeff\\AppData\\Local\\Temp\\ipykernel_4796\\289021338.py:7: UserWarning: This pattern is interpreted as a regular expression, and has match groups. To actually get the groups, use str.extract.\n",
      "  real_estate_df.loc[real_estate_df['type'].str.contains(r'(^7\\s+)'), 'type'] = 'Seven_Beds'\n",
      "C:\\Users\\Jeff\\AppData\\Local\\Temp\\ipykernel_4796\\289021338.py:8: UserWarning: This pattern is interpreted as a regular expression, and has match groups. To actually get the groups, use str.extract.\n",
      "  real_estate_df.loc[real_estate_df['type'].str.contains(r'(^8\\s+)'), 'type'] = 'Eight_Beds'\n",
      "C:\\Users\\Jeff\\AppData\\Local\\Temp\\ipykernel_4796\\289021338.py:9: UserWarning: This pattern is interpreted as a regular expression, and has match groups. To actually get the groups, use str.extract.\n",
      "  real_estate_df.loc[real_estate_df['type'].str.contains(r'(^9\\s+)'), 'type'] = 'Nine_Beds'\n",
      "C:\\Users\\Jeff\\AppData\\Local\\Temp\\ipykernel_4796\\289021338.py:10: UserWarning: This pattern is interpreted as a regular expression, and has match groups. To actually get the groups, use str.extract.\n",
      "  real_estate_df.loc[real_estate_df['type'].str.contains(r'(^10\\s+)'), 'type'] = 'Ten_Beds'\n"
     ]
    }
   ],
   "source": [
    "real_estate_df.loc[real_estate_df['type'].str.contains(r'(^1\\s+)'), 'type'] = 'One_Bed'\n",
    "real_estate_df.loc[real_estate_df['type'].str.contains(r'(^2\\s+)'), 'type'] = 'Two_Beds'\n",
    "real_estate_df.loc[real_estate_df['type'].str.contains(r'(^3\\s+)'), 'type'] = 'Three_Beds'\n",
    "real_estate_df.loc[real_estate_df['type'].str.contains(r'(^4\\s+)'), 'type'] = 'Four_Beds'\n",
    "real_estate_df.loc[real_estate_df['type'].str.contains(r'(^5\\s+)'), 'type'] = 'Five_Beds'\n",
    "real_estate_df.loc[real_estate_df['type'].str.contains(r'(^6\\s+)'), 'type'] = 'Six_Beds'\n",
    "real_estate_df.loc[real_estate_df['type'].str.contains(r'(^7\\s+)'), 'type'] = 'Seven_Beds'\n",
    "real_estate_df.loc[real_estate_df['type'].str.contains(r'(^8\\s+)'), 'type'] = 'Eight_Beds'\n",
    "real_estate_df.loc[real_estate_df['type'].str.contains(r'(^9\\s+)'), 'type'] = 'Nine_Beds'\n",
    "real_estate_df.loc[real_estate_df['type'].str.contains(r'(^10\\s+)'), 'type'] = 'Ten_Beds'"
   ]
  },
  {
   "cell_type": "code",
   "execution_count": 92,
   "id": "563b68dd",
   "metadata": {},
   "outputs": [],
   "source": [
    "#checking the data\n"
   ]
  },
  {
   "cell_type": "code",
   "execution_count": 22,
   "id": "1cb4a015",
   "metadata": {},
   "outputs": [
    {
     "name": "stderr",
     "output_type": "stream",
     "text": [
      "C:\\Users\\Jeff\\AppData\\Local\\Temp\\ipykernel_4796\\2284828908.py:1: UserWarning: This pattern is interpreted as a regular expression, and has match groups. To actually get the groups, use str.extract.\n",
      "  real_estate_df.loc[real_estate_df['type'].str.contains(r'(^FLAT\\s+)'), 'type'] = 'FLAT'\n"
     ]
    }
   ],
   "source": [
    "real_estate_df.loc[real_estate_df['type'].str.contains(r'(^FLAT\\s+)'), 'type'] = 'FLAT'"
   ]
  },
  {
   "cell_type": "code",
   "execution_count": 23,
   "id": "4a81738f",
   "metadata": {},
   "outputs": [
    {
     "name": "stderr",
     "output_type": "stream",
     "text": [
      "C:\\Users\\Jeff\\AppData\\Local\\Temp\\ipykernel_4796\\3811749174.py:1: UserWarning: This pattern is interpreted as a regular expression, and has match groups. To actually get the groups, use str.extract.\n",
      "  real_estate_df.loc[real_estate_df['type'].str.contains(r'(^TERRACED\\s+)'), 'type'] = 'Terraced_apartment'\n"
     ]
    }
   ],
   "source": [
    "real_estate_df.loc[real_estate_df['type'].str.contains(r'(^TERRACED\\s+)'), 'type'] = 'Terraced_apartment'\n",
    "\n"
   ]
  },
  {
   "cell_type": "code",
   "execution_count": 24,
   "id": "804544d3",
   "metadata": {},
   "outputs": [
    {
     "data": {
      "text/plain": [
       "array(['3 BEDROOM FLAT / APARTMENT FOR RENT', '4 BEDROOM HOUSE FOR RENT',\n",
       "       '2 BEDROOM FLAT / APARTMENT FOR RENT',\n",
       "       '6 BEDROOM COMMERCIAL PROPERTY FOR RENT',\n",
       "       '10 BEDROOM COMMERCIAL PROPERTY FOR RENT',\n",
       "       'COMMERCIAL PROPERTY FOR RENT', '5 BEDROOM HOUSE FOR RENT', 'FLAT',\n",
       "       'HOUSE FOR RENT', '3 BEDROOM HOUSE FOR RENT',\n",
       "       '1 BEDROOM FLAT / APARTMENT FOR RENT', '2 BEDROOM HOUSE FOR RENT',\n",
       "       '10 BEDROOM HOUSE FOR RENT', '4 BEDROOM FLAT / APARTMENT FOR RENT',\n",
       "       '7 BEDROOM HOUSE FOR RENT', 'LAND FOR RENT',\n",
       "       '1 BEDROOM HOUSE FOR RENT', '5 BEDROOM FLAT / APARTMENT FOR RENT',\n",
       "       '6 BEDROOM HOUSE FOR RENT', 'CO WORKING SPACE FOR RENT',\n",
       "       '5 BEDROOM DETACHED DUPLEX HOUSE FOR RENT',\n",
       "       '1 BEDROOM COMMERCIAL PROPERTY FOR RENT',\n",
       "       '8 BEDROOM HOUSE FOR RENT',\n",
       "       '4 BEDROOM COMMERCIAL PROPERTY FOR RENT',\n",
       "       '9 BEDROOM HOUSE FOR RENT', 'Terraced_apartment',\n",
       "       'COMMERCIAL LAND FOR RENT', 'DETACHED DUPLEX FOR RENT',\n",
       "       'MINI FLAT FOR RENT', 'Self_contain', 'SHOP FOR RENT',\n",
       "       'SHOP COMMERCIAL PROPERTY FOR RENT',\n",
       "       'OFFICE SPACE COMMERCIAL PROPERTY FOR RENT',\n",
       "       '5 BEDROOM COMMERCIAL PROPERTY FOR RENT',\n",
       "       '3 BEDROOM COMMERCIAL PROPERTY FOR RENT',\n",
       "       '4 BEDROOM DETACHED DUPLEX FOR RENT',\n",
       "       '1 BEDROOM SELF CONTAIN FOR RENT',\n",
       "       '5 BEDROOM DETACHED DUPLEX FOR RENT',\n",
       "       '3 BEDROOM BLOCKS OF FLATS FOR RENT',\n",
       "       '2 BEDROOM BLOCKS OF FLATS FOR RENT',\n",
       "       '1 BEDROOM OFFICE SPACE FOR RENT',\n",
       "       '6 BEDROOM DETACHED DUPLEX FOR RENT',\n",
       "       '4 BEDROOM SEMI DETACHED DUPLEX FOR RENT',\n",
       "       '3 BEDROOM SEMI DETACHED DUPLEX FOR RENT',\n",
       "       '2 BEDROOM DETACHED DUPLEX FOR RENT',\n",
       "       '3 BEDROOM TERRACED BUNGALOW FOR RENT',\n",
       "       '5 BEDROOM SEMI DETACHED DUPLEX FOR RENT',\n",
       "       '1 BEDROOM MINI FLAT FOR RENT', '2 BEDROOM MINI FLAT FOR RENT',\n",
       "       '4 BEDROOM TERRACED DUPLEX FOR RENT',\n",
       "       '5 BEDROOM TERRACED DUPLEX FOR RENT',\n",
       "       '2 BEDROOM SEMI DETACHED BUNGALOW FOR RENT',\n",
       "       '3 BEDROOM TERRACED DUPLEX FOR RENT',\n",
       "       '3 BEDROOM DETACHED BUNGALOW FOR RENT',\n",
       "       '8 BEDROOM DETACHED DUPLEX FOR RENT',\n",
       "       '10 BEDROOM OFFICE SPACE FOR RENT',\n",
       "       '6 BEDROOM SEMI DETACHED DUPLEX FOR RENT',\n",
       "       '3 BEDROOM OFFICE SPACE FOR RENT',\n",
       "       '3 BEDROOM SEMI DETACHED BUNGALOW FOR RENT',\n",
       "       '4 BEDROOM DETACHED BUNGALOW FOR RENT',\n",
       "       '2 BEDROOM DETACHED BUNGALOW FOR RENT',\n",
       "       '1 BEDROOM SEMI DETACHED BUNGALOW FOR RENT',\n",
       "       '3 BEDROOM SHARED APARTMENT FOR RENT',\n",
       "       '4 BEDROOM SELF CONTAIN FOR RENT', '1 BEDROOM PENTHOUSE FOR RENT',\n",
       "       '4 BEDROOM BLOCKS OF FLATS FOR RENT',\n",
       "       '8 BEDROOM BLOCKS OF FLATS FOR RENT',\n",
       "       '3 BEDROOM MINI FLAT FOR RENT',\n",
       "       '7 BEDROOM DETACHED DUPLEX FOR RENT',\n",
       "       '2 BEDROOM PENTHOUSE FOR RENT', '4 BEDROOM PENTHOUSE FOR RENT',\n",
       "       '1 BEDROOM BLOCKS OF FLATS FOR RENT',\n",
       "       '1 BEDROOM SHOP IN A MALL FOR RENT',\n",
       "       '1 BEDROOM BOYS QUARTERS FOR RENT',\n",
       "       '5 BEDROOM DETACHED BUNGALOW FOR RENT',\n",
       "       '7 BEDROOM TERRACED DUPLEX FOR RENT',\n",
       "       '2 BEDROOM TERRACED DUPLEX FOR RENT',\n",
       "       '4 BEDROOM TERRACED BUNGALOW FOR RENT', 'SHOW ROOM FOR RENT',\n",
       "       '5 BEDROOM OFFICE SPACE FOR RENT',\n",
       "       '3 BEDROOM DETACHED DUPLEX FOR RENT',\n",
       "       '4 BEDROOM SEMI DETACHED BUNGALOW FOR RENT',\n",
       "       '1 BEDROOM SHOP FOR RENT', '4 BEDROOM MASSIONETTE FOR RENT',\n",
       "       '10 BEDROOM DETACHED DUPLEX FOR RENT',\n",
       "       '1 BEDROOM MINI FLAT SHARED APARTMENT FLAT / APARTMENT FOR RENT',\n",
       "       '1 BEDROOM MINI FLAT SELF CONTAIN FLAT / APARTMENT FOR RENT',\n",
       "       '2 BEDROOM BOYS QUARTERS FOR RENT', '3 BEDROOM CHURCH FOR RENT',\n",
       "       '3 BEDROOM PENTHOUSE FOR RENT',\n",
       "       '1 BEDROOM SHARED APARTMENT FOR RENT',\n",
       "       '5 BEDROOM MINI FLAT FOR RENT',\n",
       "       '1 BEDROOM DETACHED BUNGALOW FOR RENT',\n",
       "       '2 BEDROOM BLOCKS OF FLATS HOUSE FOR RENT',\n",
       "       '4 BEDROOM TERRACED DUPLEX HOUSE FOR RENT',\n",
       "       '4 BEDROOM DETACHED DUPLEX HOUSE FOR RENT',\n",
       "       '3 BEDROOM TERRACED DUPLEX HOUSE FOR RENT',\n",
       "       '3 BEDROOM BLOCKS OF FLATS HOUSE FOR RENT',\n",
       "       '3 BEDROOM DETACHED DUPLEX HOUSE FOR RENT',\n",
       "       '5 BEDROOM DETACHED BUNGALOW HOUSE FOR RENT',\n",
       "       '3 BEDROOM DETACHED BUNGALOW HOUSE FOR RENT',\n",
       "       '2 BEDROOM DETACHED BUNGALOW HOUSE FOR RENT',\n",
       "       '2 BEDROOM SEMI DETACHED BUNGALOW HOUSE FOR RENT',\n",
       "       '4 BEDROOM SEMI DETACHED DUPLEX HOUSE FOR RENT',\n",
       "       '5 BEDROOM BLOCKS OF FLATS HOUSE FOR RENT',\n",
       "       '4 BEDROOM SHARED APARTMENT FOR RENT',\n",
       "       '3 BEDROOM SELF CONTAIN FOR RENT',\n",
       "       '4 BEDROOM MINI FLAT FLAT / APARTMENT FOR RENT',\n",
       "       '8 BEDROOM DETACHED DUPLEX HOUSE FOR RENT',\n",
       "       '3 BEDROOM SEMI DETACHED DUPLEX HOUSE FOR RENT',\n",
       "       '4 BEDROOM BLOCKS OF FLATS HOUSE FOR RENT',\n",
       "       '1 BEDROOM STUDIO APARTMENT FOR RENT',\n",
       "       '3 BEDROOM PENTHOUSE FLAT / APARTMENT FOR RENT',\n",
       "       '4 BEDROOM DETACHED BUNGALOW HOUSE FOR RENT',\n",
       "       'DETACHED DUPLEX HOUSE FOR RENT',\n",
       "       '1 BEDROOM MINI FLAT DETACHED BUNGALOW HOUSE FOR RENT',\n",
       "       '2 BEDROOM DETACHED DUPLEX HOUSE FOR RENT',\n",
       "       '1 BEDROOM MINI FLAT MINI FLAT FLAT / APARTMENT FOR RENT',\n",
       "       '6 BEDROOM DETACHED DUPLEX HOUSE FOR RENT',\n",
       "       '2 BEDROOM TERRACED DUPLEX HOUSE FOR RENT',\n",
       "       '1 BEDROOM MINI FLAT FLAT / APARTMENT FOR RENT',\n",
       "       'OFFICE SPACE FOR RENT', 'SEMI DETACHED DUPLEX HOUSE FOR RENT',\n",
       "       '5 BEDROOM TERRACED DUPLEX HOUSE FOR RENT',\n",
       "       '6 BEDROOM SEMI DETACHED DUPLEX HOUSE FOR RENT',\n",
       "       'WORKSTATION FOR RENT',\n",
       "       '1 BEDROOM MINI FLAT STUDIO APARTMENT FLAT / APARTMENT FOR RENT',\n",
       "       '2 BEDROOM SHARED APARTMENT FOR RENT',\n",
       "       '4 BEDROOM RESIDENTIAL LAND FOR RENT',\n",
       "       '3 BEDROOM BOYS QUARTERS FOR RENT',\n",
       "       '2 BEDROOM SELF CONTAIN FOR RENT',\n",
       "       '7 BEDROOM FLAT / APARTMENT FOR RENT',\n",
       "       '1 BEDROOM DETACHED DUPLEX FOR RENT',\n",
       "       '4 BEDROOM MINI FLAT FOR RENT',\n",
       "       '2 BEDROOM TERRACED BUNGALOW FOR RENT',\n",
       "       '1 BEDROOM MASSIONETTE FOR RENT',\n",
       "       '3 BEDROOM MINI FLAT FLAT / APARTMENT FOR RENT',\n",
       "       'MIXED USE LAND LAND FOR RENT',\n",
       "       '2 BEDROOM STUDIO APARTMENT FLAT / APARTMENT FOR RENT',\n",
       "       '5 BEDROOM PENTHOUSE FOR RENT',\n",
       "       '2 BEDROOM SEMI DETACHED DUPLEX FOR RENT',\n",
       "       '4 BEDROOM BOYS QUARTERS FLAT / APARTMENT FOR RENT',\n",
       "       '3 BEDROOM SEMI DETACHED BUNGALOW HOUSE FOR RENT',\n",
       "       '2 BEDROOM MINI FLAT FLAT / APARTMENT FOR RENT',\n",
       "       'MINI FLAT FLAT / APARTMENT FOR RENT',\n",
       "       '2 BEDROOM SHARED APARTMENT FLAT / APARTMENT FOR RENT',\n",
       "       '1 BEDROOM MINI FLAT BOYS QUARTERS FLAT / APARTMENT FOR RENT',\n",
       "       '5 BEDROOM SEMI DETACHED DUPLEX HOUSE FOR RENT',\n",
       "       '6 BEDROOM SHARED APARTMENT FLAT / APARTMENT FOR RENT',\n",
       "       '3 BEDROOM BOYS QUARTERS FLAT / APARTMENT FOR RENT',\n",
       "       'RESIDENTIAL LAND LAND FOR RENT',\n",
       "       '7 BEDROOM DETACHED BUNGALOW FOR RENT',\n",
       "       'DETACHED BUNGALOW HOUSE FOR RENT',\n",
       "       '3 BEDROOM CHURCH COMMERCIAL PROPERTY FOR RENT',\n",
       "       '4 BEDROOM SELF CONTAIN FLAT / APARTMENT FOR RENT',\n",
       "       '1 BEDROOM MINI FLAT DETACHED DUPLEX HOUSE FOR RENT',\n",
       "       'DETACHED BUNGALOW FOR RENT',\n",
       "       '1 BEDROOM MINI FLAT BLOCKS OF FLATS HOUSE FOR RENT',\n",
       "       '4 BEDROOM SEMI DETACHED BUNGALOW HOUSE FOR RENT',\n",
       "       '1 BEDROOM MINI FLAT HOUSE FOR RENT',\n",
       "       '3 BEDROOM SELF CONTAIN FLAT / APARTMENT FOR RENT',\n",
       "       '4 BEDROOM SHARED APARTMENT FLAT / APARTMENT FOR RENT',\n",
       "       '3 BEDROOM SHARED APARTMENT FLAT / APARTMENT FOR RENT',\n",
       "       'HOTEL/GUEST HOUSE COMMERCIAL PROPERTY FOR RENT',\n",
       "       '6 BEDROOM PENTHOUSE FOR RENT',\n",
       "       '2 BEDROOM SELF CONTAIN FLAT / APARTMENT FOR RENT',\n",
       "       '7 BEDROOM TERRACED DUPLEX HOUSE FOR RENT',\n",
       "       '6 BEDROOM FLAT / APARTMENT FOR RENT',\n",
       "       'EVENT CENTRE COMMERCIAL PROPERTY FOR RENT',\n",
       "       '4 BEDROOM CHURCH COMMERCIAL PROPERTY FOR RENT',\n",
       "       '6 BEDROOM TERRACED DUPLEX HOUSE FOR RENT',\n",
       "       '5 BEDROOM MINI FLAT FLAT / APARTMENT FOR RENT',\n",
       "       '4 BEDROOM PENTHOUSE FLAT / APARTMENT FOR RENT',\n",
       "       '2 BEDROOM COMMERCIAL PROPERTY FOR RENT',\n",
       "       '2 BEDROOM CHURCH COMMERCIAL PROPERTY FOR RENT',\n",
       "       '5 BEDROOM CHURCH COMMERCIAL PROPERTY FOR RENT',\n",
       "       '5 BEDROOM SELF CONTAIN FLAT / APARTMENT FOR RENT',\n",
       "       'SHOP IN A MALL COMMERCIAL PROPERTY FOR RENT',\n",
       "       '6 BEDROOM EVENT CENTRE FOR RENT', 'SHOP IN A MALL FOR RENT',\n",
       "       '4 BEDROOM HOTEL/GUEST HOUSE COMMERCIAL PROPERTY FOR RENT',\n",
       "       '3 BEDROOM LAND FOR RENT',\n",
       "       '7 BEDROOM SEMI DETACHED DUPLEX HOUSE FOR RENT',\n",
       "       'SERVICED RESIDENTIAL LAND FOR RENT',\n",
       "       '5 BEDROOM DETACHED HOUSE FOR RENT',\n",
       "       '2 BEDROOM BLOCK OF FLAT FOR RENT',\n",
       "       '2 BEDROOM BOYS QUARTERS FLAT / APARTMENT FOR RENT',\n",
       "       '5 BEDROOM LAND FOR RENT',\n",
       "       '3 BEDROOM STUDIO APARTMENT FLAT / APARTMENT FOR RENT',\n",
       "       '1 BEDROOM MINI FLAT SEMI DETACHED BUNGALOW HOUSE FOR RENT',\n",
       "       '5 BEDROOM MASSIONETTE HOUSE FOR RENT',\n",
       "       '6 BEDROOM PENTHOUSE FLAT / APARTMENT FOR RENT',\n",
       "       '5 BEDROOM SEMI DETACHED BUNGALOW HOUSE FOR RENT',\n",
       "       '1 BEDROOM MINI FLAT TERRACED DUPLEX HOUSE FOR RENT',\n",
       "       '2 BEDROOM PENTHOUSE FLAT / APARTMENT FOR RENT',\n",
       "       '4 BEDROOM MASSIONETTE HOUSE FOR RENT',\n",
       "       '6 BEDROOM BLOCKS OF FLATS HOUSE FOR RENT',\n",
       "       '3 BEDROOM BLOCK OF FLAT FOR RENT', '3 BEDROOM BUNGALOW FOR RENT',\n",
       "       'BLOCKS OF FLATS HOUSE FOR RENT', '5 BEDROOM TERRACE FOR RENT',\n",
       "       '5 BEDROOM DUPLEX FOR RENT',\n",
       "       '10 BEDROOM HOTEL/GUEST HOUSE COMMERCIAL PROPERTY FOR RENT',\n",
       "       'BLOCKS OF FLATS FOR RENT',\n",
       "       '10 BEDROOM SEMI DETACHED DUPLEX FOR RENT',\n",
       "       'CONFERENCE ROOM CO WORKING SPACE FOR RENT',\n",
       "       '6 BEDROOM MASSIONETTE HOUSE FOR RENT',\n",
       "       '2 BEDROOM OFFICE SPACE COMMERCIAL PROPERTY FOR RENT',\n",
       "       '10 BEDROOM SEMI DETACHED DUPLEX HOUSE FOR RENT',\n",
       "       '4 BEDROOM TERRACED BUNGALOW HOUSE FOR RENT',\n",
       "       '3 BEDROOM OFFICE SPACE COMMERCIAL PROPERTY FOR RENT',\n",
       "       '10 BEDROOM BLOCKS OF FLATS HOUSE FOR RENT',\n",
       "       '10 BEDROOM OFFICE SPACE COMMERCIAL PROPERTY FOR RENT',\n",
       "       '10 BEDROOM DETACHED DUPLEX HOUSE FOR RENT',\n",
       "       '3 BEDROOM RESIDENTIAL LAND LAND FOR RENT',\n",
       "       'COMMERCIAL LAND LAND FOR RENT',\n",
       "       '7 BEDROOM OFFICE SPACE COMMERCIAL PROPERTY FOR RENT',\n",
       "       '1 BEDROOM BLOCK OF FLAT FOR RENT',\n",
       "       '5 BEDROOM OFFICE SPACE COMMERCIAL PROPERTY FOR RENT',\n",
       "       'BOYS QUARTERS FOR RENT', '1 BEDROOM TERRACED BUNGALOW FOR RENT',\n",
       "       '4 BEDROOM TERRACE FOR RENT', '4 BEDROOM DETACHED HOUSE FOR RENT',\n",
       "       'BLOCK OF FLAT FOR RENT', '4 BEDROOM DUPLEX FOR RENT',\n",
       "       '9 BEDROOM DETACHED DUPLEX HOUSE FOR RENT',\n",
       "       '7 BEDROOM DETACHED DUPLEX HOUSE FOR RENT',\n",
       "       'SHOW ROOM COMMERCIAL PROPERTY FOR RENT',\n",
       "       '1 BEDROOM DETACHED HOUSE FOR RENT',\n",
       "       'SHARED APARTMENT FLAT / APARTMENT FOR RENT',\n",
       "       'SEMI DETACHED BUNGALOW FOR RENT',\n",
       "       '3 BEDROOM MINI ESTATE FOR RENT',\n",
       "       '3 BEDROOM TERRACED BUNGALOW HOUSE FOR RENT',\n",
       "       '2 BEDROOM MINI ESTATE FOR RENT', '1 BEDROOM MINI ESTATE FOR RENT',\n",
       "       '5 BEDROOM MASSIONETTE FOR RENT',\n",
       "       '1 BEDROOM MINI FLAT TERRACED BUNGALOW HOUSE FOR RENT',\n",
       "       '10 BEDROOM PENTHOUSE FOR RENT',\n",
       "       '10 BEDROOM SHARED APARTMENT FOR RENT', '4 BEDROOM FOR RENT',\n",
       "       'WAREHOUSE COMMERCIAL PROPERTY FOR RENT',\n",
       "       '8 BEDROOM SEMI DETACHED DUPLEX HOUSE FOR RENT',\n",
       "       '3 BEDROOM FOR RENT',\n",
       "       '2 BEDROOM SHOP IN A MALL COMMERCIAL PROPERTY FOR RENT',\n",
       "       '2 BEDROOM FOR RENT', 'RESIDENTIAL LAND FOR RENT',\n",
       "       '1 BEDROOM FOR RENT', ' FOR RENT',\n",
       "       '1 BEDROOM MINI FLAT SHOP IN A MALL COMMERCIAL PROPERTY FOR RENT',\n",
       "       '2 BEDROOM STUDIO APARTMENT FOR RENT',\n",
       "       '2 BEDROOM OFFICE SPACE FOR RENT', '1 BEDROOM BUNGALOW FOR RENT',\n",
       "       '2 BEDROOM DUPLEX FOR RENT', '3 BEDROOM STUDIO APARTMENT FOR RENT',\n",
       "       '2 BEDROOM DETACHED HOUSE FOR RENT', '3 BEDROOM DUPLEX FOR RENT',\n",
       "       '1 BEDROOM MINI FLAT BOYS QUARTERS FOR RENT',\n",
       "       '1 BEDROOM MINI FLAT SHOP COMMERCIAL PROPERTY FOR RENT',\n",
       "       '2 BEDROOM BUNGALOW FOR RENT',\n",
       "       '10 BEDROOM HOTEL/GUEST HOUSE FOR RENT', 'WAREHOUSE FOR RENT',\n",
       "       '2 BEDROOM LAND FOR RENT', '5 BEDROOM SELF CONTAIN FOR RENT'],\n",
       "      dtype=object)"
      ]
     },
     "execution_count": 24,
     "metadata": {},
     "output_type": "execute_result"
    }
   ],
   "source": [
    "real_estate_df['type'].unique()"
   ]
  },
  {
   "cell_type": "code",
   "execution_count": 31,
   "id": "81aa1ff3",
   "metadata": {},
   "outputs": [
    {
     "name": "stderr",
     "output_type": "stream",
     "text": [
      "C:\\Users\\Jeff\\AppData\\Local\\Temp\\ipykernel_4796\\1020972194.py:2: UserWarning: This pattern is interpreted as a regular expression, and has match groups. To actually get the groups, use str.extract.\n",
      "  real_estate_df.drop(real_estate_df.loc[real_estate_df['type'].str.contains(r'(^[B].*)')].index, inplace = True)\n",
      "C:\\Users\\Jeff\\AppData\\Local\\Temp\\ipykernel_4796\\1020972194.py:3: UserWarning: This pattern is interpreted as a regular expression, and has match groups. To actually get the groups, use str.extract.\n",
      "  real_estate_df.drop(real_estate_df.loc[real_estate_df['type'].str.contains(r'(^[WRCMH].*)')].index, inplace = True)\n",
      "C:\\Users\\Jeff\\AppData\\Local\\Temp\\ipykernel_4796\\1020972194.py:4: UserWarning: This pattern is interpreted as a regular expression, and has match groups. To actually get the groups, use str.extract.\n",
      "  real_estate_df.drop(real_estate_df.loc[real_estate_df['type'].str.contains(r'(^MIXED.*)')].index, inplace = True)\n",
      "C:\\Users\\Jeff\\AppData\\Local\\Temp\\ipykernel_4796\\1020972194.py:5: UserWarning: This pattern is interpreted as a regular expression, and has match groups. To actually get the groups, use str.extract.\n",
      "  real_estate_df.drop(real_estate_df.loc[real_estate_df['type'].str.contains(r'(^[C].*)')].index, inplace = True)\n"
     ]
    }
   ],
   "source": [
    "#dropping some unorganized data\n",
    "real_estate_df.drop(real_estate_df.loc[real_estate_df['type'].str.contains(r'(^[B].*)')].index, inplace = True)\n",
    "real_estate_df.drop(real_estate_df.loc[real_estate_df['type'].str.contains(r'(^[WRCMH].*)')].index, inplace = True)\n",
    "real_estate_df.drop(real_estate_df.loc[real_estate_df['type'].str.contains(r'(^MIXED.*)')].index, inplace = True)\n",
    "real_estate_df.drop(real_estate_df.loc[real_estate_df['type'].str.contains(r'(^[C].*)')].index, inplace = True)"
   ]
  },
  {
   "cell_type": "code",
   "execution_count": 38,
   "id": "5ff76f2d",
   "metadata": {},
   "outputs": [
    {
     "name": "stderr",
     "output_type": "stream",
     "text": [
      "C:\\Users\\Jeff\\AppData\\Local\\Temp\\ipykernel_4796\\3370260153.py:4: UserWarning: This pattern is interpreted as a regular expression, and has match groups. To actually get the groups, use str.extract.\n",
      "  real_estate_df.drop(real_estate_df.loc[real_estate_df['type'].str.contains(r'(^SH.*)')].index, inplace = True)\n"
     ]
    }
   ],
   "source": [
    "#for effective grouping of some of these\n",
    "#real_estate_df['type'].unique()\n",
    "\n",
    "real_estate_df.drop(real_estate_df.loc[real_estate_df['type'].str.contains(r'(^SH.*)')].index, inplace = True)"
   ]
  },
  {
   "cell_type": "code",
   "execution_count": 43,
   "id": "065bff9c",
   "metadata": {},
   "outputs": [
    {
     "data": {
      "text/plain": [
       "array(['Three_Beds', 'Four_Beds', 'Two_Beds', 'Six_Beds', 'Ten_Beds',\n",
       "       'Five_Beds', 'FLAT', 'One_Bed', 'Seven_Beds', 'Eight_Beds',\n",
       "       'Nine_Beds', 'Terraced_apartment', 'Self_contain', ' FOR RENT'],\n",
       "      dtype=object)"
      ]
     },
     "execution_count": 43,
     "metadata": {},
     "output_type": "execute_result"
    }
   ],
   "source": [
    "real_estate_df['type'].unique()"
   ]
  },
  {
   "cell_type": "code",
   "execution_count": 42,
   "id": "f81f5921",
   "metadata": {},
   "outputs": [
    {
     "name": "stderr",
     "output_type": "stream",
     "text": [
      "C:\\Users\\Jeff\\AppData\\Local\\Temp\\ipykernel_4796\\1328628708.py:1: UserWarning: This pattern is interpreted as a regular expression, and has match groups. To actually get the groups, use str.extract.\n",
      "  real_estate_df.drop(real_estate_df.loc[real_estate_df['type'].str.contains(r'(^SERVICED.*)')].index, inplace = True)\n",
      "C:\\Users\\Jeff\\AppData\\Local\\Temp\\ipykernel_4796\\1328628708.py:2: UserWarning: This pattern is interpreted as a regular expression, and has match groups. To actually get the groups, use str.extract.\n",
      "  real_estate_df.drop(real_estate_df.loc[real_estate_df['type'].str.contains(r'(^SEMI.*)')].index, inplace = True)\n",
      "C:\\Users\\Jeff\\AppData\\Local\\Temp\\ipykernel_4796\\1328628708.py:3: UserWarning: This pattern is interpreted as a regular expression, and has match groups. To actually get the groups, use str.extract.\n",
      "  real_estate_df.drop(real_estate_df.loc[real_estate_df['type'].str.contains(r'(^DETACHED.*)')].index, inplace = True)\n",
      "C:\\Users\\Jeff\\AppData\\Local\\Temp\\ipykernel_4796\\1328628708.py:4: UserWarning: This pattern is interpreted as a regular expression, and has match groups. To actually get the groups, use str.extract.\n",
      "  real_estate_df.drop(real_estate_df.loc[real_estate_df['type'].str.contains(r'(^OFFICE.*)')].index, inplace = True)\n",
      "C:\\Users\\Jeff\\AppData\\Local\\Temp\\ipykernel_4796\\1328628708.py:5: UserWarning: This pattern is interpreted as a regular expression, and has match groups. To actually get the groups, use str.extract.\n",
      "  real_estate_df.drop(real_estate_df.loc[real_estate_df['type'].str.contains(r'(^LAND.*)')].index, inplace = True)\n",
      "C:\\Users\\Jeff\\AppData\\Local\\Temp\\ipykernel_4796\\1328628708.py:6: UserWarning: This pattern is interpreted as a regular expression, and has match groups. To actually get the groups, use str.extract.\n",
      "  real_estate_df.drop(real_estate_df.loc[real_estate_df['type'].str.contains(r'(^EVENT.*)')].index, inplace = True)\n"
     ]
    }
   ],
   "source": [
    "real_estate_df.drop(real_estate_df.loc[real_estate_df['type'].str.contains(r'(^SERVICED.*)')].index, inplace = True)\n",
    "real_estate_df.drop(real_estate_df.loc[real_estate_df['type'].str.contains(r'(^SEMI.*)')].index, inplace = True)\n",
    "real_estate_df.drop(real_estate_df.loc[real_estate_df['type'].str.contains(r'(^DETACHED.*)')].index, inplace = True)\n",
    "real_estate_df.drop(real_estate_df.loc[real_estate_df['type'].str.contains(r'(^OFFICE.*)')].index, inplace = True)\n",
    "real_estate_df.drop(real_estate_df.loc[real_estate_df['type'].str.contains(r'(^LAND.*)')].index, inplace = True)\n",
    "real_estate_df.drop(real_estate_df.loc[real_estate_df['type'].str.contains(r'(^EVENT.*)')].index, inplace = True)\n",
    "#real_estate_df.drop(real_estate_df.loc[real_estate_df['type'].str.contains(r'(^EVENT.*)')].index, inplace = True)"
   ]
  },
  {
   "cell_type": "code",
   "execution_count": 44,
   "id": "f9676697",
   "metadata": {},
   "outputs": [],
   "source": [
    "real_estate_df.drop(real_estate_df.loc[real_estate_df[\"type\"] == ' FOR RENT'].index, inplace = True)"
   ]
  },
  {
   "cell_type": "code",
   "execution_count": 45,
   "id": "54fc48e5",
   "metadata": {},
   "outputs": [
    {
     "data": {
      "text/plain": [
       "array(['Three_Beds', 'Four_Beds', 'Two_Beds', 'Six_Beds', 'Ten_Beds',\n",
       "       'Five_Beds', 'FLAT', 'One_Bed', 'Seven_Beds', 'Eight_Beds',\n",
       "       'Nine_Beds', 'Terraced_apartment', 'Self_contain'], dtype=object)"
      ]
     },
     "execution_count": 45,
     "metadata": {},
     "output_type": "execute_result"
    }
   ],
   "source": [
    "real_estate_df['type'].unique()"
   ]
  },
  {
   "cell_type": "code",
   "execution_count": 53,
   "id": "64b3b178",
   "metadata": {},
   "outputs": [
    {
     "data": {
      "text/html": [
       "<div>\n",
       "<style scoped>\n",
       "    .dataframe tbody tr th:only-of-type {\n",
       "        vertical-align: middle;\n",
       "    }\n",
       "\n",
       "    .dataframe tbody tr th {\n",
       "        vertical-align: top;\n",
       "    }\n",
       "\n",
       "    .dataframe thead th {\n",
       "        text-align: right;\n",
       "    }\n",
       "</style>\n",
       "<table border=\"1\" class=\"dataframe\">\n",
       "  <thead>\n",
       "    <tr style=\"text-align: right;\">\n",
       "      <th></th>\n",
       "      <th>price</th>\n",
       "    </tr>\n",
       "  </thead>\n",
       "  <tbody>\n",
       "    <tr>\n",
       "      <th>count</th>\n",
       "      <td>1.011200e+04</td>\n",
       "    </tr>\n",
       "    <tr>\n",
       "      <th>mean</th>\n",
       "      <td>3.033754e+06</td>\n",
       "    </tr>\n",
       "    <tr>\n",
       "      <th>std</th>\n",
       "      <td>6.350745e+07</td>\n",
       "    </tr>\n",
       "    <tr>\n",
       "      <th>min</th>\n",
       "      <td>-2.147484e+09</td>\n",
       "    </tr>\n",
       "    <tr>\n",
       "      <th>25%</th>\n",
       "      <td>1.000000e+06</td>\n",
       "    </tr>\n",
       "    <tr>\n",
       "      <th>50%</th>\n",
       "      <td>2.000000e+06</td>\n",
       "    </tr>\n",
       "    <tr>\n",
       "      <th>75%</th>\n",
       "      <td>3.500000e+06</td>\n",
       "    </tr>\n",
       "    <tr>\n",
       "      <th>max</th>\n",
       "      <td>2.000000e+09</td>\n",
       "    </tr>\n",
       "  </tbody>\n",
       "</table>\n",
       "</div>"
      ],
      "text/plain": [
       "              price\n",
       "count  1.011200e+04\n",
       "mean   3.033754e+06\n",
       "std    6.350745e+07\n",
       "min   -2.147484e+09\n",
       "25%    1.000000e+06\n",
       "50%    2.000000e+06\n",
       "75%    3.500000e+06\n",
       "max    2.000000e+09"
      ]
     },
     "execution_count": 53,
     "metadata": {},
     "output_type": "execute_result"
    }
   ],
   "source": [
    "real_estate_df.describe()"
   ]
  },
  {
   "cell_type": "code",
   "execution_count": 52,
   "id": "00d2499a",
   "metadata": {},
   "outputs": [],
   "source": [
    "real_estate_df['price']= real_estate_df['price'].astype(int)"
   ]
  },
  {
   "cell_type": "code",
   "execution_count": null,
   "id": "2d9aeb7e",
   "metadata": {},
   "outputs": [],
   "source": []
  },
  {
   "cell_type": "code",
   "execution_count": 63,
   "id": "2b0d28bc",
   "metadata": {},
   "outputs": [
    {
     "data": {
      "image/png": "[encoded data removed]",
      "text/plain": [
       "<Figure size 432x288 with 1 Axes>"
      ]
     },
     "metadata": {
      "needs_background": "light"
     },
     "output_type": "display_data"
    }
   ],
   "source": [
    "avg_price_type = real_estate_df.groupby('type')['price'].mean()\n",
    "avg_price_type.plot(kind = 'bar', title = 'average_rent_price')\n",
    "plt.show()"
   ]
  },
  {
   "cell_type": "code",
   "execution_count": 70,
   "id": "b6a875ac",
   "metadata": {},
   "outputs": [
    {
     "data": {
      "image/png": "[encoded data removed]",
      "text/plain": [
       "<Figure size 432x288 with 1 Axes>"
      ]
     },
     "metadata": {
      "needs_background": "light"
     },
     "output_type": "display_data"
    }
   ],
   "source": [
    "max_price_type.plot(kind = 'line', title = 'highest_rent_price')\n",
    "plt.show()"
   ]
  },
  {
   "cell_type": "code",
   "execution_count": 69,
   "id": "5ef23801",
   "metadata": {},
   "outputs": [
    {
     "data": {
      "image/png": "[encoded data removed]",
      "text/plain": [
       "<Figure size 432x288 with 1 Axes>"
      ]
     },
     "metadata": {
      "needs_background": "light"
     },
     "output_type": "display_data"
    }
   ],
   "source": [
    "#three bedrooms have the most expensive listing\n",
    "max_price_type = real_estate_df.groupby('type')['price'].max()\n",
    "max_price_type.plot(kind = 'bar', title = 'highest_rent_price')\n",
    "plt.show()"
   ]
  },
  {
   "cell_type": "code",
   "execution_count": 76,
   "id": "c02d334d",
   "metadata": {},
   "outputs": [
    {
     "data": {
      "text/plain": [
       "<AxesSubplot:xlabel='count', ylabel='type'>"
      ]
     },
     "execution_count": 76,
     "metadata": {},
     "output_type": "execute_result"
    },
    {
     "data": {
      "image/png": "[encoded data removed]",
      "text/plain": [
       "<Figure size 432x288 with 1 Axes>"
      ]
     },
     "metadata": {
      "needs_background": "light"
     },
     "output_type": "display_data"
    }
   ],
   "source": [
    "#create a count plot\n",
    "sns.countplot(y= \"type\", data = real_estate_df)"
   ]
  },
  {
   "cell_type": "code",
   "execution_count": 77,
   "id": "6b157649",
   "metadata": {},
   "outputs": [
    {
     "data": {
      "text/html": [
       "<div>\n",
       "<style scoped>\n",
       "    .dataframe tbody tr th:only-of-type {\n",
       "        vertical-align: middle;\n",
       "    }\n",
       "\n",
       "    .dataframe tbody tr th {\n",
       "        vertical-align: top;\n",
       "    }\n",
       "\n",
       "    .dataframe thead th {\n",
       "        text-align: right;\n",
       "    }\n",
       "</style>\n",
       "<table border=\"1\" class=\"dataframe\">\n",
       "  <thead>\n",
       "    <tr style=\"text-align: right;\">\n",
       "      <th></th>\n",
       "      <th>type</th>\n",
       "      <th>price</th>\n",
       "      <th>completion_stage</th>\n",
       "      <th>day_posted</th>\n",
       "      <th>Location</th>\n",
       "    </tr>\n",
       "  </thead>\n",
       "  <tbody>\n",
       "    <tr>\n",
       "      <th>0</th>\n",
       "      <td>Three_Beds</td>\n",
       "      <td>3800000</td>\n",
       "      <td>NaN</td>\n",
       "      <td>Updated 25 Jul 2022, Added 27 Jun 2022</td>\n",
       "      <td>Durumi Abuja</td>\n",
       "    </tr>\n",
       "    <tr>\n",
       "      <th>1</th>\n",
       "      <td>Four_Beds</td>\n",
       "      <td>7000000</td>\n",
       "      <td>ServicedNewly Built</td>\n",
       "      <td>Updated 25 Jul 2022, Added 27 Jun 2022</td>\n",
       "      <td>Katampe Extention Diplomatic Zone Katampe Ext...</td>\n",
       "    </tr>\n",
       "    <tr>\n",
       "      <th>2</th>\n",
       "      <td>Two_Beds</td>\n",
       "      <td>2200000</td>\n",
       "      <td>NaN</td>\n",
       "      <td>Updated 25 Jul 2022, Added 11 Jun 2022</td>\n",
       "      <td>Gaduwa Estate Gaduwa Abuja</td>\n",
       "    </tr>\n",
       "    <tr>\n",
       "      <th>3</th>\n",
       "      <td>Six_Beds</td>\n",
       "      <td>20000000</td>\n",
       "      <td>NaN</td>\n",
       "      <td>Updated 25 Jul 2022, Added 06 Jul 2022</td>\n",
       "      <td>By Ecowas Asokoro Abuja</td>\n",
       "    </tr>\n",
       "    <tr>\n",
       "      <th>4</th>\n",
       "      <td>Ten_Beds</td>\n",
       "      <td>40000000</td>\n",
       "      <td>FurnishedServicedNewly Built</td>\n",
       "      <td>Updated 25 Jul 2022, Added 10 Jul 2022</td>\n",
       "      <td>Katampe Ext Abuja</td>\n",
       "    </tr>\n",
       "  </tbody>\n",
       "</table>\n",
       "</div>"
      ],
      "text/plain": [
       "         type     price              completion_stage  \\\n",
       "0  Three_Beds   3800000                           NaN   \n",
       "1   Four_Beds   7000000           ServicedNewly Built   \n",
       "2    Two_Beds   2200000                           NaN   \n",
       "3    Six_Beds  20000000                           NaN   \n",
       "4    Ten_Beds  40000000  FurnishedServicedNewly Built   \n",
       "\n",
       "                                  day_posted  \\\n",
       "0    Updated 25 Jul 2022, Added 27 Jun 2022    \n",
       "1    Updated 25 Jul 2022, Added 27 Jun 2022    \n",
       "2    Updated 25 Jul 2022, Added 11 Jun 2022    \n",
       "3    Updated 25 Jul 2022, Added 06 Jul 2022    \n",
       "4    Updated 25 Jul 2022, Added 10 Jul 2022    \n",
       "\n",
       "                                            Location  \n",
       "0                                       Durumi Abuja  \n",
       "1   Katampe Extention Diplomatic Zone Katampe Ext...  \n",
       "2                         Gaduwa Estate Gaduwa Abuja  \n",
       "3                            By Ecowas Asokoro Abuja  \n",
       "4                                  Katampe Ext Abuja  "
      ]
     },
     "execution_count": 77,
     "metadata": {},
     "output_type": "execute_result"
    }
   ],
   "source": [
    "real_estate_df.head(5)"
   ]
  },
  {
   "cell_type": "code",
   "execution_count": null,
   "id": "dbea10e7",
   "metadata": {},
   "outputs": [],
   "source": []
  },
  {
   "cell_type": "code",
   "execution_count": 94,
   "id": "b287c356",
   "metadata": {},
   "outputs": [],
   "source": [
    "real_estate_df.loc[real_estate_df['Location'].str.contains('Lugbe'), 'Location'] = 'Lugbe'\n",
    "real_estate_df.loc[real_estate_df['Location'].str.contains('Asokoro'), 'Location'] = 'Asokoro'\n",
    "real_estate_df.loc[real_estate_df['Location'].str.contains('Maitama'), 'Location'] = 'Maitama'\n",
    "real_estate_df.loc[real_estate_df['Location'].str.contains('Apo'), 'Location'] = 'Apo'\n",
    "real_estate_df.loc[real_estate_df['Location'].str.contains('Galadimawa'), 'Location'] = 'Galadimawa'\n",
    "real_estate_df.loc[real_estate_df['Location'].str.contains('Lokogoma'), 'Location'] = 'Lokogoma'\n",
    "real_estate_df.loc[real_estate_df['Location'].str.contains('Wuse'), 'Location'] = 'Wuse'\n",
    "real_estate_df.loc[real_estate_df['Location'].str.contains('Guzape'), 'Location'] = 'Guzape'\n",
    "real_estate_df.loc[real_estate_df['Location'].str.contains('Garki'), 'Location'] = 'Garki'\n",
    "real_estate_df.loc[real_estate_df['Location'].str.contains('Lifecamp'), 'Location'] = 'Lifecamp'\n",
    "real_estate_df.loc[real_estate_df['Location'].str.contains('Gwarimpa'), 'Location'] = 'Gwarimpa'\n",
    "real_estate_df.loc[real_estate_df['Location'].str.contains('Kubwa'), 'Location'] = 'Kubwa'\n",
    "real_estate_df.loc[real_estate_df['Location'].str.contains('Wuye'), 'Location'] = 'Wuye'\n",
    "real_estate_df.loc[real_estate_df['Location'].str.contains('Jahi'), 'Location'] = 'Jahi'\n",
    "real_estate_df.loc[real_estate_df['Location'].str.contains('Jabi'), 'Location'] = 'Jabi'\n",
    "real_estate_df.loc[real_estate_df['Location'].str.contains('Utako'), 'Location'] = 'Utako'\n",
    "real_estate_df.loc[real_estate_df['Location'].str.contains('Mabushi'), 'Location'] = 'Mabushi'\n",
    "real_estate_df.loc[real_estate_df['Location'].str.contains('Mararaba'), 'Location'] = 'Mararaba'\n",
    "real_estate_df.loc[real_estate_df['Location'].str.contains('Kuje'), 'Location'] = 'Kuje'\n",
    "real_estate_df.loc[real_estate_df['Location'].str.contains('Katampe'), 'Location'] = 'Katampe'\n",
    "real_estate_df.loc[real_estate_df['Location'].str.contains('Gwarinpa'), 'Location'] = 'Gwarimpa'\n",
    "real_estate_df.loc[real_estate_df['Location'].str.contains('Karu'), 'Location'] = 'Karu'\n",
    "real_estate_df.loc[real_estate_df['Location'].str.contains('Kado'), 'Location'] = 'Kado'"
   ]
  },
  {
   "cell_type": "code",
   "execution_count": null,
   "id": "0f4fbe59",
   "metadata": {},
   "outputs": [],
   "source": []
  },
  {
   "cell_type": "code",
   "execution_count": 108,
   "id": "e194975f",
   "metadata": {},
   "outputs": [],
   "source": [
    "listings = ['Lugbe', 'Asokoro', 'Maitama' ,'Apo' ,'Galadimawa' , 'Lokogoma' ,'Wuse', 'Guzape', 'Garki' ,'Lifecamp','Gwarimpa','Kubwa','Wuye','Jahi', 'Jabi', 'Utako', 'Mabushi', 'Mararaba', 'Kuje','Katampe' ,'Gwarimpa', 'Karu', 'Kado']\n",
    "#reg_p = '[' + re.escape (''. join (listings)) + ']'\n",
    "\n",
    "abuja_df = real_estate_df.loc[real_estate_df['Location'].isin(listings)]"
   ]
  },
  {
   "cell_type": "code",
   "execution_count": 109,
   "id": "4159d070",
   "metadata": {},
   "outputs": [
    {
     "data": {
      "text/html": [
       "<div>\n",
       "<style scoped>\n",
       "    .dataframe tbody tr th:only-of-type {\n",
       "        vertical-align: middle;\n",
       "    }\n",
       "\n",
       "    .dataframe tbody tr th {\n",
       "        vertical-align: top;\n",
       "    }\n",
       "\n",
       "    .dataframe thead th {\n",
       "        text-align: right;\n",
       "    }\n",
       "</style>\n",
       "<table border=\"1\" class=\"dataframe\">\n",
       "  <thead>\n",
       "    <tr style=\"text-align: right;\">\n",
       "      <th></th>\n",
       "      <th>type</th>\n",
       "      <th>price</th>\n",
       "      <th>completion_stage</th>\n",
       "      <th>day_posted</th>\n",
       "      <th>Location</th>\n",
       "    </tr>\n",
       "  </thead>\n",
       "  <tbody>\n",
       "    <tr>\n",
       "      <th>1</th>\n",
       "      <td>Four_Beds</td>\n",
       "      <td>7000000</td>\n",
       "      <td>ServicedNewly Built</td>\n",
       "      <td>Updated 25 Jul 2022, Added 27 Jun 2022</td>\n",
       "      <td>Katampe</td>\n",
       "    </tr>\n",
       "    <tr>\n",
       "      <th>3</th>\n",
       "      <td>Six_Beds</td>\n",
       "      <td>20000000</td>\n",
       "      <td>NaN</td>\n",
       "      <td>Updated 25 Jul 2022, Added 06 Jul 2022</td>\n",
       "      <td>Asokoro</td>\n",
       "    </tr>\n",
       "    <tr>\n",
       "      <th>4</th>\n",
       "      <td>Ten_Beds</td>\n",
       "      <td>40000000</td>\n",
       "      <td>FurnishedServicedNewly Built</td>\n",
       "      <td>Updated 25 Jul 2022, Added 10 Jul 2022</td>\n",
       "      <td>Katampe</td>\n",
       "    </tr>\n",
       "    <tr>\n",
       "      <th>6</th>\n",
       "      <td>Four_Beds</td>\n",
       "      <td>3500000</td>\n",
       "      <td>Newly Built</td>\n",
       "      <td>Updated 25 Jul 2022, Added 10 Jun 2022</td>\n",
       "      <td>Lokogoma</td>\n",
       "    </tr>\n",
       "    <tr>\n",
       "      <th>7</th>\n",
       "      <td>Five_Beds</td>\n",
       "      <td>7000000</td>\n",
       "      <td>NaN</td>\n",
       "      <td>Updated 25 Jul 2022, Added 07 Jun 2022</td>\n",
       "      <td>Wuye</td>\n",
       "    </tr>\n",
       "    <tr>\n",
       "      <th>...</th>\n",
       "      <td>...</td>\n",
       "      <td>...</td>\n",
       "      <td>...</td>\n",
       "      <td>...</td>\n",
       "      <td>...</td>\n",
       "    </tr>\n",
       "    <tr>\n",
       "      <th>10931</th>\n",
       "      <td>Four_Beds</td>\n",
       "      <td>10000000</td>\n",
       "      <td>NaN</td>\n",
       "      <td>Added 12 Apr 2017</td>\n",
       "      <td>Jahi</td>\n",
       "    </tr>\n",
       "    <tr>\n",
       "      <th>10932</th>\n",
       "      <td>Two_Beds</td>\n",
       "      <td>2000000</td>\n",
       "      <td>NaN</td>\n",
       "      <td>Added 12 Apr 2017</td>\n",
       "      <td>Maitama</td>\n",
       "    </tr>\n",
       "    <tr>\n",
       "      <th>10933</th>\n",
       "      <td>Three_Beds</td>\n",
       "      <td>800000</td>\n",
       "      <td>NaN</td>\n",
       "      <td>Added 12 Apr 2017</td>\n",
       "      <td>Karu</td>\n",
       "    </tr>\n",
       "    <tr>\n",
       "      <th>10934</th>\n",
       "      <td>Four_Beds</td>\n",
       "      <td>2700000</td>\n",
       "      <td>NaN</td>\n",
       "      <td>Added 12 Apr 2017</td>\n",
       "      <td>Gwarimpa</td>\n",
       "    </tr>\n",
       "    <tr>\n",
       "      <th>10939</th>\n",
       "      <td>Three_Beds</td>\n",
       "      <td>2000000</td>\n",
       "      <td>NaN</td>\n",
       "      <td>Added 12 Apr 2017</td>\n",
       "      <td>Wuye</td>\n",
       "    </tr>\n",
       "  </tbody>\n",
       "</table>\n",
       "<p>8803 rows × 5 columns</p>\n",
       "</div>"
      ],
      "text/plain": [
       "             type     price              completion_stage  \\\n",
       "1       Four_Beds   7000000           ServicedNewly Built   \n",
       "3        Six_Beds  20000000                           NaN   \n",
       "4        Ten_Beds  40000000  FurnishedServicedNewly Built   \n",
       "6       Four_Beds   3500000                   Newly Built   \n",
       "7       Five_Beds   7000000                           NaN   \n",
       "...           ...       ...                           ...   \n",
       "10931   Four_Beds  10000000                           NaN   \n",
       "10932    Two_Beds   2000000                           NaN   \n",
       "10933  Three_Beds    800000                           NaN   \n",
       "10934   Four_Beds   2700000                           NaN   \n",
       "10939  Three_Beds   2000000                           NaN   \n",
       "\n",
       "                                      day_posted  Location  \n",
       "1        Updated 25 Jul 2022, Added 27 Jun 2022    Katampe  \n",
       "3        Updated 25 Jul 2022, Added 06 Jul 2022    Asokoro  \n",
       "4        Updated 25 Jul 2022, Added 10 Jul 2022    Katampe  \n",
       "6        Updated 25 Jul 2022, Added 10 Jun 2022   Lokogoma  \n",
       "7        Updated 25 Jul 2022, Added 07 Jun 2022       Wuye  \n",
       "...                                          ...       ...  \n",
       "10931                         Added 12 Apr 2017       Jahi  \n",
       "10932                         Added 12 Apr 2017    Maitama  \n",
       "10933                         Added 12 Apr 2017       Karu  \n",
       "10934                         Added 12 Apr 2017   Gwarimpa  \n",
       "10939                         Added 12 Apr 2017       Wuye  \n",
       "\n",
       "[8803 rows x 5 columns]"
      ]
     },
     "execution_count": 109,
     "metadata": {},
     "output_type": "execute_result"
    }
   ],
   "source": [
    "abuja_df"
   ]
  },
  {
   "cell_type": "code",
   "execution_count": 122,
   "id": "cc1335ce",
   "metadata": {},
   "outputs": [
    {
     "data": {
      "text/plain": [
       "<AxesSubplot:xlabel='Location'>"
      ]
     },
     "execution_count": 122,
     "metadata": {},
     "output_type": "execute_result"
    },
    {
     "data": {
      "image/png": "[encoded data removed]",
      "text/plain": [
       "<Figure size 432x288 with 1 Axes>"
      ]
     },
     "metadata": {
      "needs_background": "light"
     },
     "output_type": "display_data"
    }
   ],
   "source": [
    "location_grp = abuja_df.groupby('Location')['price'].max()\n",
    "location_grp.plot(kind = 'bar')\n"
   ]
  },
  {
   "cell_type": "code",
   "execution_count": 128,
   "id": "bcfe3a48",
   "metadata": {},
   "outputs": [
    {
     "data": {
      "text/plain": [
       "<AxesSubplot:xlabel='count', ylabel='Location'>"
      ]
     },
     "execution_count": 128,
     "metadata": {},
     "output_type": "execute_result"
    },
    {
     "data": {
      "image/png": "[encoded data removed]",
      "text/plain": [
       "<Figure size 432x288 with 1 Axes>"
      ]
     },
     "metadata": {
      "needs_background": "light"
     },
     "output_type": "display_data"
    }
   ],
   "source": [
    "#the data is showing that lugbe and gwarinpa have the most listings, while places like kuje and maraba have the least\n",
    "sns.countplot(y= 'Location',data = abuja_df)"
   ]
  },
  {
   "cell_type": "code",
   "execution_count": 129,
   "id": "319edf60",
   "metadata": {},
   "outputs": [
    {
     "data": {
      "text/plain": [
       "<AxesSubplot:xlabel='count', ylabel='Location'>"
      ]
     },
     "execution_count": 129,
     "metadata": {},
     "output_type": "execute_result"
    },
    {
     "data": {
      "image/png": "[encoded data removed]",
      "text/plain": [
       "<Figure size 432x288 with 1 Axes>"
      ]
     },
     "metadata": {
      "needs_background": "light"
     },
     "output_type": "display_data"
    }
   ],
   "source": [
    "#sub dividing the listings by type of listings \n",
    "\n",
    "sns.countplot(y= 'Location', hue = 'type', data = abuja_df)"
   ]
  },
  {
   "cell_type": "code",
   "execution_count": 133,
   "id": "a08c7ca0",
   "metadata": {},
   "outputs": [
    {
     "data": {
      "text/plain": [
       "<AxesSubplot:xlabel='type'>"
      ]
     },
     "execution_count": 133,
     "metadata": {},
     "output_type": "execute_result"
    },
    {
     "data": {
      "image/png": "[encoded data removed]",
      "text/plain": [
       "<Figure size 432x288 with 1 Axes>"
      ]
     },
     "metadata": {
      "needs_background": "light"
     },
     "output_type": "display_data"
    }
   ],
   "source": [
    "type_grp = abuja_df.groupby('type')['price'].max()\n",
    "type_grp.plot(kind = 'bar')"
   ]
  },
  {
   "cell_type": "code",
   "execution_count": 149,
   "id": "2f10c993",
   "metadata": {},
   "outputs": [
    {
     "name": "stderr",
     "output_type": "stream",
     "text": [
      "C:\\Users\\Jeff\\AppData\\Local\\Temp\\ipykernel_4796\\439427844.py:3: SettingWithCopyWarning: \n",
      "A value is trying to be set on a copy of a slice from a DataFrame\n",
      "\n",
      "See the caveats in the documentation: https://pandas.pydata.org/pandas-docs/stable/user_guide/indexing.html#returning-a-view-versus-a-copy\n",
      "  abuja_df.drop(abuja_df.loc[abuja_df['price'] < 0].index, inplace = True)\n"
     ]
    }
   ],
   "source": [
    "#some negative values to be dropped\n",
    "abuja_df.drop(abuja_df.loc[abuja_df['price'] < 0].index, inplace = True)"
   ]
  },
  {
   "cell_type": "code",
   "execution_count": 155,
   "id": "3cb0c930",
   "metadata": {},
   "outputs": [
    {
     "data": {
      "text/plain": [
       "<AxesSubplot:xlabel='price', ylabel='Location'>"
      ]
     },
     "execution_count": 155,
     "metadata": {},
     "output_type": "execute_result"
    },
    {
     "data": {
      "image/png": "[encoded data removed]",
      "text/plain": [
       "<Figure size 432x288 with 1 Axes>"
      ]
     },
     "metadata": {
      "needs_background": "light"
     },
     "output_type": "display_data"
    }
   ],
   "source": [
    "sns.barplot(x = abuja_df['price'], y = abuja_df['Location'])"
   ]
  },
  {
   "cell_type": "code",
   "execution_count": null,
   "id": "9be59a5f",
   "metadata": {},
   "outputs": [],
   "source": []
  }
 ],
 "metadata": {
  "kernelspec": {
   "display_name": "Python 3 (ipykernel)",
   "language": "python",
   "name": "python3"
  },
  "language_info": {
   "codemirror_mode": {
    "name": "ipython",
    "version": 3
   },
   "file_extension": ".py",
   "mimetype": "text/x-python",
   "name": "python",
   "nbconvert_exporter": "python",
   "pygments_lexer": "ipython3",
   "version": "3.9.12"
  }
 },
 "nbformat": 4,
 "nbformat_minor": 5
}
